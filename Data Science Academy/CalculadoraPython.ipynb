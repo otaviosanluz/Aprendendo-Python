{
 "cells": [
  {
   "cell_type": "code",
   "execution_count": 15,
   "metadata": {},
   "outputs": [
    {
     "name": "stdout",
     "output_type": "stream",
     "text": [
      "******************** Calculadora Python ********************\n",
      "\n",
      "\n",
      "Selecione o número da operação desejada:\n",
      "\n",
      "\n",
      "1 - Soma\n",
      "2 - Subtração\n",
      "3 - Multiplicação\n",
      "4 - Divisão\n",
      "\n",
      "\n",
      "Digite sua opção (1/2/3/4): 4\n",
      "Digite o primeiro valor: 10\n",
      "Digite o segundo valor: 5\n",
      "10.0 / 5.0 = 2.0\n"
     ]
    }
   ],
   "source": [
    "print('******************** Calculadora Python ********************')\n",
    "print('\\n')\n",
    "print('Selecione o número da operação desejada:')\n",
    "print('\\n')\n",
    "print('1 - Soma\\n2 - Subtração\\n3 - Multiplicação\\n4 - Divisão')\n",
    "print('\\n')\n",
    "\n",
    "operacao = int(input('Digite sua opção (1/2/3/4): '))\n",
    "\n",
    "while operacao < 1 or operacao > 4:\n",
    "    operacao = int(input('Opção inválida! Digite sua opção (1/2/3/4): '))\n",
    "\n",
    "a = float(input('Digite o primeiro valor: '))\n",
    "b = float(input('Digite o segundo valor: '))\n",
    "\n",
    "if operacao == 1:\n",
    "    soma = a + b\n",
    "    print(f'{a} + {b} = {soma}')\n",
    "elif operacao == 2:\n",
    "    sub = a - b\n",
    "    print(f'{a} - {b} = {sub}')\n",
    "elif operacao == 3:\n",
    "    mult = a * b\n",
    "    print(f'{a} * {b} = {mult}')\n",
    "elif operacao == 4:\n",
    "    div = a / b\n",
    "    print(f'{a} / {b} = {div}')"
   ]
  },
  {
   "cell_type": "code",
   "execution_count": null,
   "metadata": {},
   "outputs": [],
   "source": []
  }
 ],
 "metadata": {
  "kernelspec": {
   "display_name": "Python 3",
   "language": "python",
   "name": "python3"
  },
  "language_info": {
   "codemirror_mode": {
    "name": "ipython",
    "version": 3
   },
   "file_extension": ".py",
   "mimetype": "text/x-python",
   "name": "python",
   "nbconvert_exporter": "python",
   "pygments_lexer": "ipython3",
   "version": "3.7.6"
  }
 },
 "nbformat": 4,
 "nbformat_minor": 4
}
