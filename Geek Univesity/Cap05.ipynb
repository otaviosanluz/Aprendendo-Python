{
 "cells": [
  {
   "cell_type": "markdown",
   "metadata": {},
   "source": [
    "# Capítulo 5 - Estruturas Lógicas e Condicionais em Python"
   ]
  },
  {
   "cell_type": "code",
   "execution_count": 15,
   "metadata": {},
   "outputs": [
    {
     "name": "stdout",
     "output_type": "stream",
     "text": [
      "A variável a é maior!\n"
     ]
    }
   ],
   "source": [
    "#1.\n",
    "\n",
    "a = 15\n",
    "b = 3\n",
    "\n",
    "if a < b:\n",
    "    print('A variável b é maior!')\n",
    "elif a == b:\n",
    "    print('As variáveis são iguais!')\n",
    "else:\n",
    "    print('A variável a é maior!')"
   ]
  },
  {
   "cell_type": "code",
   "execution_count": 21,
   "metadata": {},
   "outputs": [
    {
     "name": "stdout",
     "output_type": "stream",
     "text": [
      "O valor a ao quadrado é 6.760000000000001\n"
     ]
    }
   ],
   "source": [
    "#3. \n",
    "\n",
    "a = -2.6\n",
    "\n",
    "if a > 0:\n",
    "    sqrt = a**(1/2) #Calculo da raiz quadrada\n",
    "    print('A raiz quadrada é {}'.format(sqrt))\n",
    "else:\n",
    "    b = a**2 #Calculo do número ao quadrado\n",
    "    print('O valor a ao quadrado é {}'.format(b))\n",
    "    "
   ]
  },
  {
   "cell_type": "code",
   "execution_count": 23,
   "metadata": {},
   "outputs": [
    {
     "name": "stdout",
     "output_type": "stream",
     "text": [
      "O número é ímpar.\n"
     ]
    }
   ],
   "source": [
    "#5.\n",
    "\n",
    "a = 111\n",
    "\n",
    "if a % 2 == 0: #Resto da divisão igual a 0\n",
    "    print('O número é par.')\n",
    "else:\n",
    "    print('O número é ímpar.')"
   ]
  },
  {
   "cell_type": "code",
   "execution_count": 26,
   "metadata": {},
   "outputs": [
    {
     "name": "stdout",
     "output_type": "stream",
     "text": [
      "Números iguais.\n"
     ]
    }
   ],
   "source": [
    "#7. \n",
    "\n",
    "a = 15\n",
    "b = 15\n",
    "\n",
    "if a > b:\n",
    "    print('O valor a é maior que b.')\n",
    "elif a < b:\n",
    "    print('O valor b é maior que a.')\n",
    "else:\n",
    "    print('Números iguais.')"
   ]
  },
  {
   "cell_type": "code",
   "execution_count": 29,
   "metadata": {},
   "outputs": [
    {
     "name": "stdout",
     "output_type": "stream",
     "text": [
      "Empréstimo não concedido.\n"
     ]
    }
   ],
   "source": [
    "#9.\n",
    "\n",
    "salario = 1550\n",
    "emprestimo = 600\n",
    "a = (salario*20)/100 #20% do dalário\n",
    "\n",
    "if emprestimo > a:\n",
    "    print('Empréstimo não concedido.')\n",
    "else:\n",
    "    print('Empréstimo concedido.')"
   ]
  },
  {
   "cell_type": "code",
   "execution_count": 42,
   "metadata": {},
   "outputs": [
    {
     "name": "stdout",
     "output_type": "stream",
     "text": [
      "Informe um númemro maior que zero: 12\n",
      "3\n"
     ]
    }
   ],
   "source": [
    "#11.\n",
    "\n",
    "a = int(input('Informe um númemro maior que zero: '))\n",
    "\n",
    "if a < 0:\n",
    "    print('Número invalido')\n",
    "    \n",
    "u = a // 1 % 10 #Valor da unidade de a \n",
    "d = a // 10 % 10 #Valor da dezena de a\n",
    "c = a // 100 % 10 #Valor da centena de a\n",
    "m = a // 1000 % 10 #Valor do milhar de a\n",
    "\n",
    "soma = u + d + c + m\n",
    "print(soma)\n"
   ]
  },
  {
   "cell_type": "code",
   "execution_count": 44,
   "metadata": {},
   "outputs": [
    {
     "name": "stdout",
     "output_type": "stream",
     "text": [
      "Nota da prova 1:92.5\n",
      "Nota da prova 2:23.7\n",
      "Nota da prova 3:60\n",
      "Média do aluno:59.05\n",
      "Reprovado!\n"
     ]
    }
   ],
   "source": [
    "#13. \n",
    "\n",
    "a = float(input('Nota da prova 1:'))\n",
    "b = float(input('Nota da prova 2:'))\n",
    "c = float(input('Nota da prova 3:'))\n",
    "\n",
    "d = c*2 #Terceira prova com peso 2\n",
    "media = (a + b + d)/4 #Média ponderada\n",
    "print('Média do aluno:{}'.format(media))\n",
    "\n",
    "if media > 60:\n",
    "    print('Aprovado!')\n",
    "else:\n",
    "    print('Reprovado!')\n",
    "\n"
   ]
  },
  {
   "cell_type": "code",
   "execution_count": 54,
   "metadata": {},
   "outputs": [
    {
     "name": "stdout",
     "output_type": "stream",
     "text": [
      "Informe um número entre 1 e 7: 6\n",
      "o dia da semana é sexta.\n"
     ]
    }
   ],
   "source": [
    "#15.\n",
    "\n",
    "a = int(input('Informe um número entre 1 e 7: '))\n",
    "if a > 7:\n",
    "    print('Número inválido.')\n",
    "elif a <= 0:\n",
    "    print('Número inválido.')\n",
    "    \n",
    "if a == 1:\n",
    "    print('O dia da semana é domingo.')\n",
    "elif a == 2:\n",
    "    print('O dia da semana é segunda.')\n",
    "elif a == 3:\n",
    "    print('O dia da semana é terça.')\n",
    "elif a == 4:\n",
    "    print('O dia da semana é quarta.')\n",
    "elif a == 5:\n",
    "    print('O dia da semana é quinta.')\n",
    "elif a == 6:\n",
    "    print('o dia da semana é sexta.')\n",
    "elif a == 7:\n",
    "    print('O dia da semana é sábado.')"
   ]
  },
  {
   "cell_type": "code",
   "execution_count": 1,
   "metadata": {},
   "outputs": [
    {
     "name": "stdout",
     "output_type": "stream",
     "text": [
      "Informe o tamanho da base menor: 34\n",
      "Informe o tamanho da base maior: 56\n",
      "Informe o tamanho da altura: 12\n",
      "Área do trapézio 540.0 m²\n"
     ]
    }
   ],
   "source": [
    "#17. \n",
    "\n",
    "\n",
    "a = float(input('Informe o tamanho da base menor: '))\n",
    "b = float(input('Informe o tamanho da base maior: '))\n",
    "c = float(input('Informe o tamanho da altura: '))\n",
    "\n",
    "if a <= 0:\n",
    "    print('Não é possível calular.')\n",
    "elif b <= 0:\n",
    "    print('Não é possível calcular.')\n",
    "else:\n",
    "    area = ((a + b) * c)/2\n",
    "    print('Área do trapézio {} m²'.format(area))"
   ]
  },
  {
   "cell_type": "code",
   "execution_count": 2,
   "metadata": {},
   "outputs": [
    {
     "name": "stdout",
     "output_type": "stream",
     "text": [
      "Informe um valor: 2\n",
      "O número 2 não é divisível por 3 e 5.\n"
     ]
    }
   ],
   "source": [
    "#19.\n",
    "\n",
    "a = int(input('Informe um valor: '))\n",
    "\n",
    "if (a % 3 == 0) and (a % 5 == 0): #O número a é divisível por 3 e 5\n",
    "    print('O número {} é divisível por 3 e 5.'.format(a)) \n",
    "elif (a % 3 == 0) and (a % 5 != 0): #O número a é divisível por apenas por 3\n",
    "    print('O número {} é divisível por 3.'.format(a))\n",
    "elif (a % 3 != 0) and (a % 5 == 0): #O número a é divisível apenas por 5\n",
    "    print('O número {} é divisível por 5.'.format(a))\n",
    "elif (a % 3 != 0) and (a % 5 != 0): #O número não é divisível por 3 e 5\n",
    "    print('O número {} não é divisível por 3 e 5.'.format(a))"
   ]
  },
  {
   "cell_type": "code",
   "execution_count": 2,
   "metadata": {},
   "outputs": [
    {
     "ename": "SyntaxError",
     "evalue": "invalid syntax (<ipython-input-2-9976179711c4>, line 14)",
     "output_type": "error",
     "traceback": [
      "\u001b[1;36m  File \u001b[1;32m\"<ipython-input-2-9976179711c4>\"\u001b[1;36m, line \u001b[1;32m14\u001b[0m\n\u001b[1;33m    if opcao == :\u001b[0m\n\u001b[1;37m                ^\u001b[0m\n\u001b[1;31mSyntaxError\u001b[0m\u001b[1;31m:\u001b[0m invalid syntax\n"
     ]
    }
   ],
   "source": [
    "#21.\n",
    "\n",
    "n1 = int(input('Primeiro valor: '))\n",
    "n2 = int(input('Segundo valor: '))\n",
    "\n",
    "opcao = 0\n",
    "while opcao != 5: #Enquanto a opção for diferente de 5\n",
    "    print('''\n",
    "    [1] somar\n",
    "    [2] diferença\n",
    "    [3] produto\n",
    "    [4] divisão''')\n",
    "    opcao = int(input('Qual é a sua opção? '))\n",
    "    if opcao == 1:\n",
    "        soma = n1 + n2\n",
    "        print('A soma entre {} e {} é {}.'.format(n1, n2, soma))\n",
    "    elif opcao == 2:\n",
    "        if n1 > n2:\n",
    "            dif = (n1 - n2)\n",
    "            print('A diferença entre {} e {} é {}.'.format(n1, n2, dif))\n",
    "        else:\n",
    "            dif = (n2 - n1)\n",
    "            print('A diferença entre {} e {} é {}.'.format(n2, n1, dif))\n",
    "    elif opcao == 3:\n",
    "        prod = (n1 * n2)\n",
    "        print('O produto entre {} e {} é {}.'.format(n1, n2, prod))\n",
    "    elif opcao == 4:\n",
    "        if n1 == 0:\n",
    "            print('Essa operação não pode ser realizada.')\n",
    "        else:\n",
    "            div = (n2 / n1)\n",
    "            print('A divisão entre {} e {} é {}.'.format(n2, n1, div))\n",
    "    else:\n",
    "        ('Opção inválida. Tente novamente!')\n",
    "    break\n",
    "print('The end.')\n",
    "\n"
   ]
  },
  {
   "cell_type": "code",
   "execution_count": 4,
   "metadata": {},
   "outputs": [
    {
     "name": "stdout",
     "output_type": "stream",
     "text": [
      "Informe um ano: 1988\n",
      "O ano 1988 é bissexto.\n"
     ]
    }
   ],
   "source": [
    "#23.\n",
    "\n",
    "ano = int(input('Informe um ano: '))\n",
    "\n",
    "if (ano % 400 == 0) and (ano % 100 != 0): #Se o módulo da divisão por 400=0 e modulo da divisão por 100 diferente de 0\n",
    "    print('O ano {} é bissexto.'.format(ano))\n",
    "elif (ano % 4 == 0) and (ano % 100 != 0): #Se o módulo da divisão por 4=0 e modulo da divisão por 100 diferente de 0\n",
    "    print('O ano {} é bissexto.'.format(ano))\n",
    "else:\n",
    "    print('O ano {} não é bissexto.'.format(ano))\n"
   ]
  },
  {
   "cell_type": "code",
   "execution_count": 5,
   "metadata": {},
   "outputs": [
    {
     "name": "stdout",
     "output_type": "stream",
     "text": [
      "Informe um valor: 38\n",
      "Informe um valor: 45\n",
      "Informe um valor: 76\n",
      "Não existe raiz.\n"
     ]
    }
   ],
   "source": [
    "#25.\n",
    "\n",
    "a = float(input('Informe um valor: '))\n",
    "b = float(input('Informe um valor: '))\n",
    "c = float(input('Informe um valor: '))\n",
    "\n",
    "delta = (b**2) - (4*a*c) #Valor de delta\n",
    "x1 = (b*(-1)) + (delta**0.5) #Numerado da primeira raiz\n",
    "xa = x1 / (2*a) #Valor da primeira raiz\n",
    "x2 = (b*(-1)) - (delta**0.5) #Numerador da segunda raiz\n",
    "xb = x2 / (2*a) #Valor da segunda raiz\n",
    "\n",
    "if a == 0: \n",
    "    print('Não é equação de segundo grau.')\n",
    "elif delta < 0:\n",
    "    print('Não existe raiz.')\n",
    "elif delta == 0:\n",
    "    x = (b*(-1))/(2*a)\n",
    "    print('A raiz é única e seu valor é {}.'.format(x))\n",
    "elif delta > 0:\n",
    "    print('A primera raiz é {} e a segunda é {}.'.format(xa, xb))"
   ]
  },
  {
   "cell_type": "code",
   "execution_count": 5,
   "metadata": {},
   "outputs": [
    {
     "name": "stdout",
     "output_type": "stream",
     "text": [
      "Informe a idade do nadador: 35\n",
      "Categoria Sênior.\n"
     ]
    }
   ],
   "source": [
    "#27.\n",
    "\n",
    "idade = int(input('Informe a idade do nadador: '))\n",
    "\n",
    "if (idade>=5) and (idade<=7):\n",
    "    print('Categoria Infantil A.')\n",
    "elif idade < 5:\n",
    "    print('Não possui categoria.')\n",
    "elif (idade>=8) and (idade<=10):\n",
    "    print('Categoria Infantil B.')\n",
    "elif (idade>=11) and (idade<=13):\n",
    "    print('Categoria Juvenil A.')\n",
    "elif (idade>=14) and (idade<=17):\n",
    "    print('Categoria Juvenil B')\n",
    "else:\n",
    "    print('Categoria Sênior.')"
   ]
  },
  {
   "cell_type": "code",
   "execution_count": 6,
   "metadata": {},
   "outputs": [
    {
     "name": "stdout",
     "output_type": "stream",
     "text": [
      "Prova de Matemática\n",
      "1. Qual a soma de 2 + 15? 17\n",
      "2. Qual a soma de 7 + 1? 8\n",
      "3. Qual a soma de 56 + 89? 145\n",
      "4. Qual a soma de 71 + 33? 104\n",
      "5. Qual a soma de 27 + 42? 69\n",
      "1. A soma de 2 + 15 é 17. Resposta correta!\n",
      "2. A soma de 7 + 1 é 8. Resposta correta!\n",
      "3. A soma de 56 + 89 é 145. Resposta correta!\n",
      "4. A soma de 71 + 33 é 104. Resposta correta!\n",
      "5. A soma de 27 + 42 é 69. Resposta correta!\n",
      "Número de acertos: 5\n"
     ]
    }
   ],
   "source": [
    "#29. \n",
    "\n",
    "print('Prova de Matemática')\n",
    "\n",
    "q1 = int(input('1. Qual a soma de 2 + 15? '))\n",
    "q2 = int(input('2. Qual a soma de 7 + 1? '))\n",
    "q3 = int(input('3. Qual a soma de 56 + 89? '))\n",
    "q4 = int(input('4. Qual a soma de 71 + 33? '))\n",
    "q5 = int(input('5. Qual a soma de 27 + 42? '))\n",
    "\n",
    "if q1 == 17:\n",
    "    print('1. A soma de 2 + 15 é 17. Resposta correta!')\n",
    "    a = 1\n",
    "else:\n",
    "    print('1. A soma de 2 + 15 é 17. Resposta errada!')\n",
    "    a = 0\n",
    "    \n",
    "if q2 == 8:\n",
    "    print('2. A soma de 7 + 1 é 8. Resposta correta!')\n",
    "    b = 1\n",
    "else:\n",
    "    print('2. A soma de 7 + 1 é 8. Resposta errada!')\n",
    "    b = 0\n",
    "    \n",
    "if q3 == 145:\n",
    "    print('3. A soma de 56 + 89 é 145. Resposta correta!')\n",
    "    c = 1\n",
    "else:\n",
    "    print('3. A soma de 56 + 89 é 145. Resposta errada!')\n",
    "    c = 0\n",
    "    \n",
    "if q4 == 104:\n",
    "    print('4. A soma de 71 + 33 é 104. Resposta correta!')\n",
    "    d = 1\n",
    "else:\n",
    "    print('4. A soma de 71 + 33 é 104. Resposta errada!')\n",
    "    d = 0\n",
    "    \n",
    "if q5 == 69:\n",
    "    print('5. A soma de 27 + 42 é 69. Resposta correta!')\n",
    "    e = 1\n",
    "else:\n",
    "    print('5. A soma de 27 + 42 é 69. Resposta errada!')\n",
    "    e = 0\n",
    "    \n",
    "acerto = a + b + c + d + e\n",
    "print('Número de acertos: {}'.format(acerto))\n",
    "    \n",
    "    \n",
    "    \n",
    "    \n"
   ]
  },
  {
   "cell_type": "code",
   "execution_count": null,
   "metadata": {},
   "outputs": [],
   "source": []
  }
 ],
 "metadata": {
  "kernelspec": {
   "display_name": "Python 3",
   "language": "python",
   "name": "python3"
  },
  "language_info": {
   "codemirror_mode": {
    "name": "ipython",
    "version": 3
   },
   "file_extension": ".py",
   "mimetype": "text/x-python",
   "name": "python",
   "nbconvert_exporter": "python",
   "pygments_lexer": "ipython3",
   "version": "3.7.6"
  }
 },
 "nbformat": 4,
 "nbformat_minor": 4
}
