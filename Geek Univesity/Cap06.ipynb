{
 "cells": [
  {
   "cell_type": "markdown",
   "metadata": {},
   "source": [
    "# Capítulo 6 -  Estruturas de repetição"
   ]
  },
  {
   "cell_type": "code",
   "execution_count": 5,
   "metadata": {},
   "outputs": [
    {
     "name": "stdout",
     "output_type": "stream",
     "text": [
      "10\n",
      "9\n",
      "8\n",
      "7\n",
      "6\n",
      "5\n",
      "4\n",
      "3\n",
      "2\n",
      "1\n",
      "FIM\n"
     ]
    }
   ],
   "source": [
    "#3. \n",
    "\n",
    "contador = 10\n",
    "while contador != 0: #Enquanto contador for diferente de 0\n",
    "    print(contador)\n",
    "    contador = contador -1 \n",
    "print('FIM')\n",
    "Testando\n",
    "Testando1\n",
    "Testando2\n",
    "Testando3\n",
    "    "
   ]
  },
  {
   "cell_type": "code",
   "execution_count": null,
   "metadata": {},
   "outputs": [],
   "source": [
    "#4. \n",
    "\n",
    "numero = 0\n",
    "while numero < 100001:\n",
    "    print(numero)\n",
    "    numero = numero + 1000\n",
    "print(FIM)\n"
   ]
  },
  {
   "cell_type": "code",
   "execution_count": 6,
   "metadata": {},
   "outputs": [
    {
     "name": "stdout",
     "output_type": "stream",
     "text": [
      "Digite um valor: -1\n",
      "Digite um valor: 2\n",
      "Digite um valor: 3\n",
      "Digite um valor: -10\n",
      "Digite um valor: -15\n",
      "Digite um valor: -16\n",
      "Digite um valor: 18\n",
      "Digite um valor: -9\n",
      "Digite um valor: 1\n",
      "Digite um valor: -2\n",
      "-29.0\n",
      "Digite um valor: 1\n",
      "Digite um valor: -9\n",
      "Digite um valor: 0\n",
      "Digite um valor: -6\n",
      "Digite um valor: 3\n",
      "Digite um valor: -6\n",
      "Digite um valor: 2\n",
      "Digite um valor: 2\n",
      "Digite um valor: 2\n",
      "Digite um valor: 2\n",
      "-9.0\n",
      "11\n"
     ]
    }
   ],
   "source": [
    "#5. \n",
    "#For\n",
    "soma = 0\n",
    "for item in range(1,11):\n",
    "    valor = float(input('Digite um valor: '))\n",
    "    soma = soma + valor\n",
    "print(soma)\n",
    "#While\n",
    "soma = 0\n",
    "n = 1\n",
    "while n < 11:\n",
    "    valor = float(input('Digite um valor: '))\n",
    "    soma = soma + valor\n",
    "    n = n + 1\n",
    "print(soma)\n",
    "print(n)\n",
    "    "
   ]
  },
  {
   "cell_type": "code",
   "execution_count": null,
   "metadata": {},
   "outputs": [],
   "source": [
    "#6.\n",
    "#For\n",
    "soma = 0\n",
    "for item in range(1,11):\n",
    "    valor = int(input('Digite um valor: '))\n",
    "    if valor < 0:\n",
    "        valor = int(input('Número inválido. Digitr outro valor: '))\n",
    "    soma = soma + valor\n",
    "media = soma/10 #Media de 10 valores\n",
    "print(media)\n",
    "#While\n",
    "soma = 0\n",
    "n = 1\n",
    "while n < 11:\n",
    "    valor = int(input('Digite um valor: '))\n",
    "    soma = soma + valor\n",
    "    n = n + 1\n",
    "media = soma/10\n",
    "print(media)\n"
   ]
  },
  {
   "cell_type": "code",
   "execution_count": 5,
   "metadata": {},
   "outputs": [
    {
     "name": "stdout",
     "output_type": "stream",
     "text": [
      "Informe um valor: -3\n",
      "Informe um valor: 5\n",
      "Informe um valor: -4\n",
      "Informe um valor: 2\n",
      "Informe um valor: 18\n",
      "Informe um valor: 29\n",
      "Informe um valor: -145\n",
      "Informe um valor: 24\n",
      "Informe um valor: 7\n",
      "O número 29 é o maior valor lido.\n",
      "O número -145 é o menor valor lido.\n"
     ]
    }
   ],
   "source": [
    "#8. \n",
    "maior = menor = 0\n",
    "for numero in range(1,11): #Para cada número de 1 até 10\n",
    "    valor = int(input('Informe um valor: '))\n",
    "    if valor > maior: \n",
    "        maior = valor\n",
    "    elif valor < menor:\n",
    "        menor = valor\n",
    "print(f'O número {maior} é o maior valor lido.')\n",
    "print(f'O número {menor} é o menor valor lido.')"
   ]
  },
  {
   "cell_type": "code",
   "execution_count": 3,
   "metadata": {},
   "outputs": [
    {
     "name": "stdout",
     "output_type": "stream",
     "text": [
      "Informe a quantidade de valores do programa: 5\n",
      "Informe um número: 12\n",
      "O valor 12 é um número natural ímpar.\n",
      "Informe um número: -5\n",
      "Informe um número: 3\n",
      "O valor 3 é um número natural ímpar.\n",
      "Informe um número: 10\n",
      "Informe um número: 7\n"
     ]
    }
   ],
   "source": [
    "#9. \n",
    "cont = 1\n",
    "valor = int(input('Informe a quantidade de valores do programa: '))\n",
    "while cont <= valor: #Enquanto o o contador for menor que o valor informado\n",
    "    n = int(input('Informe um número: '))\n",
    "    cont = cont +1\n",
    "    if n % 3 == 0 and n > 0: #Se o o valor de n for ímpar e maior que 0\n",
    "        print(f'O valor {n} é um número natural ímpar.')"
   ]
  },
  {
   "cell_type": "code",
   "execution_count": 10,
   "metadata": {},
   "outputs": [
    {
     "name": "stdout",
     "output_type": "stream",
     "text": [
      "Informe um valor: 2\n",
      "Informe um valor: 3\n",
      "Informe um valor: 4\n",
      "Informe um valor: 5\n",
      "Informe um valor: 6\n",
      "Informe um valor: 7\n",
      "Informe um valor: 8\n",
      "Informe um valor: 9\n",
      "Informe um valor: 10\n",
      "A média dos valores positivos é 5.4.\n"
     ]
    }
   ],
   "source": [
    "#7. \n",
    "soma = 0\n",
    "for numero in range(1,11):\n",
    "    valor = int(input('Informe um valor: '))\n",
    "    while valor < 0:\n",
    "        valor = int(input('Valor inválido! Informe um valor positivo: '))\n",
    "    soma = soma + valor\n",
    "    media = soma/10\n",
    "print(f'A média dos valores positivos é {media}.')\n",
    "    "
   ]
  },
  {
   "cell_type": "code",
   "execution_count": 14,
   "metadata": {},
   "outputs": [
    {
     "name": "stdout",
     "output_type": "stream",
     "text": [
      "Informe o número de valores que o programa permite: 10\n",
      "O número de valores não pode ser inferior a 100. Informe Novamente: 5\n",
      "O número de valores não pode ser inferior a 100. Informe Novamente: 15\n",
      "O número de valores não pode ser inferior a 100. Informe Novamente: 99\n",
      "O número de valores não pode ser inferior a 100. Informe Novamente: 200\n",
      "A soma dos números pares é 2550.\n"
     ]
    }
   ],
   "source": [
    "#10.\n",
    "numero = int(input('Informe o número de valores que o programa permite: '))\n",
    "while numero < 100:\n",
    "    numero = int(input('O número de valores não pode ser inferior a 100. Informe Novamente: '))\n",
    "soma = 0\n",
    "cont = 0\n",
    "while cont <= numero:\n",
    "    cont = cont + 1\n",
    "    if cont % 2 == 0 and cont < 101:\n",
    "        soma = soma + cont\n",
    "print(f'A soma dos números pares é {soma}.')"
   ]
  },
  {
   "cell_type": "code",
   "execution_count": 18,
   "metadata": {},
   "outputs": [
    {
     "name": "stdout",
     "output_type": "stream",
     "text": [
      "Informe um número positivo: 10\n",
      "0\n",
      "1\n",
      "2\n",
      "3\n",
      "4\n",
      "5\n",
      "6\n",
      "7\n",
      "8\n",
      "9\n",
      "10\n"
     ]
    }
   ],
   "source": [
    "#11.\n",
    "\n",
    "numero = int(input('Informe um número positivo: '))\n",
    "while numero < 0:\n",
    "    numero = int(input('Número inválido. Informe um número positivo: '))\n",
    "for i in range(0,numero + 1):\n",
    "    print(i)\n"
   ]
  },
  {
   "cell_type": "code",
   "execution_count": 25,
   "metadata": {},
   "outputs": [
    {
     "name": "stdout",
     "output_type": "stream",
     "text": [
      "Informe um número positivo: 10\n",
      "10\n",
      "9\n",
      "8\n",
      "7\n",
      "6\n",
      "5\n",
      "4\n",
      "3\n",
      "2\n",
      "1\n"
     ]
    }
   ],
   "source": [
    "#12.\n",
    "\n",
    "numero = int(input('Informe um número positivo: '))\n",
    "while numero < 0:\n",
    "    numero = int(input('Número inválido. Informe um número positivo: '))\n",
    "for i in range(numero, , -1):\n",
    "    print(i)\n",
    "    "
   ]
  },
  {
   "cell_type": "code",
   "execution_count": 3,
   "metadata": {},
   "outputs": [
    {
     "name": "stdout",
     "output_type": "stream",
     "text": [
      "Informe um número positivo par: 10\n",
      "0\n",
      "2\n",
      "4\n",
      "6\n",
      "8\n",
      "10\n"
     ]
    }
   ],
   "source": [
    "#13.\n",
    "\n",
    "n = int(input('Informe um número positivo par: '))\n",
    "while n < 0 or n % 2 != 0:\n",
    "    n = int(input('Número inválido. Informe um número positivo par: '))\n",
    "for i in range(0, n +1):\n",
    "    if i % 2 == 0:\n",
    "        print(i)\n",
    "\n"
   ]
  },
  {
   "cell_type": "code",
   "execution_count": 4,
   "metadata": {},
   "outputs": [
    {
     "name": "stdout",
     "output_type": "stream",
     "text": [
      "Informe um número positivo par: 5\n",
      "Número inválido. Informe um número positivo par: -2\n",
      "Número inválido. Informe um número positivo par: 10\n",
      "10\n",
      "8\n",
      "6\n",
      "4\n",
      "2\n"
     ]
    }
   ],
   "source": [
    "#14. \n",
    "\n",
    "n = int(input('Informe um número positivo par: '))\n",
    "while n < 0 or n % 2 != 0:\n",
    "    n = int(input('Número inválido. Informe um número positivo par: '))\n",
    "for i in range(n, 0, -1):\n",
    "    if i % 2 == 0:\n",
    "        print(i)"
   ]
  },
  {
   "cell_type": "code",
   "execution_count": 6,
   "metadata": {},
   "outputs": [
    {
     "name": "stdout",
     "output_type": "stream",
     "text": [
      "Informe um número positivo ímpar: 15\n",
      "0\n",
      "3\n",
      "6\n",
      "9\n",
      "12\n",
      "15\n"
     ]
    }
   ],
   "source": [
    "#15. \n",
    "\n",
    "n = int(input('Informe um número positivo ímpar: '))\n",
    "while n < 0 or n % 3 != 0:\n",
    "    n = int(input('Número inválido. Informe um número positivo ímpar: '))\n",
    "for i in range(0, n + 1):\n",
    "    if i % 3 == 0:\n",
    "        print(i)"
   ]
  },
  {
   "cell_type": "code",
   "execution_count": 7,
   "metadata": {},
   "outputs": [
    {
     "name": "stdout",
     "output_type": "stream",
     "text": [
      "Informe um número positivo ímpar: 15\n",
      "15\n",
      "12\n",
      "9\n",
      "6\n",
      "3\n"
     ]
    }
   ],
   "source": [
    "#16.\n",
    "\n",
    "n = int(input('Informe um número positivo ímpar: '))\n",
    "while n < 0 or n % 3 != 0:\n",
    "    n = int(input('Número inválido. Informe um número positivo ímpar: '))\n",
    "for i in range(n, 0, -1):\n",
    "    if i % 3 == 0:\n",
    "        print(i)"
   ]
  },
  {
   "cell_type": "code",
   "execution_count": 25,
   "metadata": {},
   "outputs": [
    {
     "name": "stdout",
     "output_type": "stream",
     "text": [
      "Informe um número positivo: 10\n",
      "A soma dos 10 números é 55.\n"
     ]
    }
   ],
   "source": [
    "#17.\n",
    "\n",
    "n = int(input('Informe um número positivo: '))\n",
    "while n < 0:\n",
    "    n = int(input('Número inválido. Informe um número positivo: '))\n",
    "soma = 0\n",
    "for i in range(0, n + 1):\n",
    "    soma = soma + i\n",
    "print(f'A soma dos {n} números é {soma}.')"
   ]
  },
  {
   "cell_type": "code",
   "execution_count": 2,
   "metadata": {},
   "outputs": [
    {
     "name": "stdout",
     "output_type": "stream",
     "text": [
      "Informe o número de valores a serem lidos: 10\n",
      "Informe o 1º valor: 1\n",
      "Informe o 2º valor: 12\n",
      "Informe o 3º valor: 5\n",
      "Informe o 4º valor: 12\n",
      "Informe o 5º valor: 12\n",
      "Informe o 6º valor: 12\n",
      "Informe o 7º valor: 5\n",
      "Informe o 8º valor: 12\n",
      "Informe o 9º valor: 0\n",
      "Informe o 10º valor: -2\n",
      "O maior valor é 12 e se repetiu por 2 vezes.\n"
     ]
    }
   ],
   "source": [
    "#18.\n",
    "\n",
    "numero = int(input('Informe o número de valores a serem lidos: '))\n",
    "cont = 1\n",
    "maior = 0\n",
    "qt = 0\n",
    "while cont <= numero:\n",
    "    valor = int(input(f'Informe o {cont}º valor: '))\n",
    "    cont = cont + 1\n",
    "    if valor > maior:\n",
    "        maior = valor\n",
    "        qt = qt + 1\n",
    "print(f'O maior valor é {maior} e se repetiu por {qt} vezes.')"
   ]
  },
  {
   "cell_type": "code",
   "execution_count": 21,
   "metadata": {},
   "outputs": [
    {
     "name": "stdout",
     "output_type": "stream",
     "text": [
      "Informe um número entre 100 e 999: 782\n",
      "O número 782 é composto pelos algorismos 7, 8, 2.\n"
     ]
    }
   ],
   "source": [
    "#19.\n",
    "\n",
    "num = int(input('Informe um número entre 100 e 999: '))\n",
    "while num < 100 or num > 999:\n",
    "    num = int(input('Número inválido. Informe um número entre 100 e 999: '))\n",
    "u = (num // 1) % 10 #Unidade\n",
    "d = (num // 10) % 10 #Dezena\n",
    "c = (num // 100) % 10 #Centena\n",
    "print(f'O número {num} é composto pelos algorismos {c}, {d}, {u}.')\n",
    "\n"
   ]
  },
  {
   "cell_type": "code",
   "execution_count": 24,
   "metadata": {},
   "outputs": [
    {
     "name": "stdout",
     "output_type": "stream",
     "text": [
      "Informe um valor: 500\n",
      "O número 500 é par.\n",
      "Informe um valor: 120\n",
      "O número 120 é par.\n",
      "Informe um valor: 121\n",
      "O número 121 não é par\n",
      "Informe um valor: 333\n",
      "O número 333 não é par\n",
      "Informe um valor: 400\n",
      "O número 400 é par.\n",
      "Informe um valor: 1000\n",
      "O número 1000 é par.\n",
      "O número de dados lidos foi 6 e o número de pares foi 4.\n"
     ]
    }
   ],
   "source": [
    "#20.\n",
    "\n",
    "cont = 0\n",
    "par = 0\n",
    "num = 0\n",
    "while num != 1000:\n",
    "    num = int(input('Informe um valor: '))\n",
    "    cont = cont + 1\n",
    "    if num % 2 == 0:\n",
    "        print(f'O número {num} é par.')\n",
    "        par = par + 1\n",
    "    else:\n",
    "        print(f'O número {num} não é par.')\n",
    "print(f'O número de dados lidos foi {cont} e o número de pares foi {par}.')\n"
   ]
  },
  {
   "cell_type": "code",
   "execution_count": 18,
   "metadata": {},
   "outputs": [
    {
     "name": "stdout",
     "output_type": "stream",
     "text": [
      "Informe um nota entre 10 e 20:15\n",
      "Informe uma nota entre 10 e 20: 13\n",
      "Informe uma nota entre 10 e 20: 16\n",
      "Informe uma nota entre 10 e 20: 17\n",
      "Informe uma nota entre 10 e 20: 3\n",
      "Notas abaixo de 10 e acima de 20 não são computadas.\n",
      "O aluno obteve 4 notas e sua média é 15.25.\n"
     ]
    }
   ],
   "source": [
    "#22.\n",
    "\n",
    "nota = float(input('Informe um nota entre 10 e 20:'))\n",
    "while nota < 10 or nota > 20:\n",
    "    nota = int(input('Nota inválida. Informe uma nota entre 10 e 20: '))\n",
    "    \n",
    "cont = 0\n",
    "soma = 0\n",
    "while nota >=10 and nota <=20: #Enquanto as notas forem maior ou igual a 10 e menor ou igual a 20\n",
    "    cont = cont + 1 #Número de notas\n",
    "    soma = soma + nota #Somatório das notas fornecidas\n",
    "    nota = float(input('Informe uma nota entre 10 e 20: ')) #Valor das notas\n",
    "media = soma/cont #Media das notas\n",
    "print('Notas abaixo de 10 e acima de 20 não são computadas.')\n",
    "print(f'O aluno obteve {cont} notas e sua média é {media}.')\n"
   ]
  },
  {
   "cell_type": "code",
   "execution_count": 17,
   "metadata": {},
   "outputs": [
    {
     "name": "stdout",
     "output_type": "stream",
     "text": [
      "23341668\n"
     ]
    }
   ],
   "source": [
    "#25.\n",
    "soma = 0\n",
    "for c in range(1, 10001):\n",
    "    if c % 3 == 0 or c % 5 == 0:\n",
    "        soma = soma + c\n",
    "print(soma)"
   ]
  },
  {
   "cell_type": "code",
   "execution_count": 19,
   "metadata": {},
   "outputs": [
    {
     "name": "stdout",
     "output_type": "stream",
     "text": [
      "Informe um número: 10\n",
      "8\n"
     ]
    }
   ],
   "source": [
    "#24.\n",
    "soma = 0\n",
    "n = int(input('Informe um número: '))\n",
    "for c in range(1, n):\n",
    "    if n % c == 0:\n",
    "        soma = soma + c\n",
    "print(soma)"
   ]
  },
  {
   "cell_type": "code",
   "execution_count": 12,
   "metadata": {},
   "outputs": [
    {
     "name": "stdout",
     "output_type": "stream",
     "text": [
      "Informe um valor diferente de 0: 12\n",
      "Informe um valor(se quiser finalizar o programa digite 0): 1\n",
      "Informe um valor(se quiser finalizar o programa digite 0): 0\n",
      "Fim do programa\n",
      "(a) Soma: 13\n",
      "(b) Quantidade de valores: 2\n",
      "(c) Média: 6.5\n",
      "(d) Maior valor: 12\n",
      "(e) Menor valor: 0\n",
      "(f) Média dos valores pares: 0\n"
     ]
    }
   ],
   "source": [
    "#60. NÃO RESOLVIDO\n",
    "\n",
    "soma = 0\n",
    "cont = 0\n",
    "media = 0\n",
    "maior = 0\n",
    "somapar = 0\n",
    "mediapar = 0\n",
    "contpar = 0 \n",
    "\n",
    "valor = int(input('Informe um valor diferente de 0: '))\n",
    "while valor == 0:\n",
    "    valor = int(input('Valor inválido. Informe um valor diferente de 0: '))\n",
    "    \n",
    "while valor != 0:\n",
    "    soma = soma + valor\n",
    "    cont = cont + 1\n",
    "    media = soma/cont\n",
    "    if valor < menor and valor != 0:\n",
    "        menor = valor\n",
    "    if valor > maior:\n",
    "        maior = valor\n",
    "    elif valor % 2 == 0:\n",
    "        somapar = somapar + valor\n",
    "        contpar = contpar + 1\n",
    "        mediapar = somapar/contpar\n",
    "    valor = int(input('Informe um valor(se quiser finalizar o programa digite 0): '))\n",
    "    if valor == 0:\n",
    "        print('Fim do programa')\n",
    "print(f'''(a) Soma: {soma}\n",
    "(b) Quantidade de valores: {cont}\n",
    "(c) Média: {media}\n",
    "(d) Maior valor: {maior}\n",
    "(e) Menor valor: {menor}\n",
    "(f) Média dos valores pares: {mediapar}''')\n",
    "         \n",
    "        \n",
    "    \n",
    "    \n"
   ]
  },
  {
   "cell_type": "code",
   "execution_count": null,
   "metadata": {},
   "outputs": [],
   "source": []
  }
 ],
 "metadata": {
  "kernelspec": {
   "display_name": "Python 3",
   "language": "python",
   "name": "python3"
  },
  "language_info": {
   "codemirror_mode": {
    "name": "ipython",
    "version": 3
   },
   "file_extension": ".py",
   "mimetype": "text/x-python",
   "name": "python",
   "nbconvert_exporter": "python",
   "pygments_lexer": "ipython3",
   "version": "3.7.6"
  }
 },
 "nbformat": 4,
 "nbformat_minor": 4
}