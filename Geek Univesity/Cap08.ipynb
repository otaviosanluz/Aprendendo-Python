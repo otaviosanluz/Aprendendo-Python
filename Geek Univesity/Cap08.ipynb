{
 "cells": [
  {
   "cell_type": "markdown",
   "metadata": {},
   "source": [
    "# Capítulo 08: Funções"
   ]
  },
  {
   "cell_type": "code",
   "execution_count": 1,
   "metadata": {},
   "outputs": [
    {
     "name": "stdout",
     "output_type": "stream",
     "text": [
      "10\n"
     ]
    }
   ],
   "source": [
    "#1.\n",
    "def inteiro(a):\n",
    "    return(2*a)\n",
    "print(inteiro(5))"
   ]
  },
  {
   "cell_type": "code",
   "execution_count": 11,
   "metadata": {},
   "outputs": [
    {
     "name": "stdout",
     "output_type": "stream",
     "text": [
      "26 de novembro de 1990.\n"
     ]
    }
   ],
   "source": [
    "#2.\n",
    "def data_atual(dia,mes,ano):\n",
    "    if mes == 1:\n",
    "        return(f'{dia} de janeiro de {ano}.')\n",
    "    elif mes == 2:\n",
    "        return(f'{dia} de fevereiro de {ano}.')\n",
    "    elif mes == 3:\n",
    "        return(f'{dia} de março de {ano}.')\n",
    "    elif mes == 4:\n",
    "        return(f'{dia} de abril de {ano}.')\n",
    "    elif mes == 5:\n",
    "        return(f'{dia} de maio de {ano}.')\n",
    "    elif mes == 6:\n",
    "        return(f'{dia} de junho de {ano}.')\n",
    "    elif mes == 7:\n",
    "        return(f'{dia} de julho de {ano}.')\n",
    "    elif mes == 8:\n",
    "        return(f'{dia} de agosto de {ano}.')\n",
    "    elif mes == 9:\n",
    "        return(f'{dia} de setembro de {ano}.')\n",
    "    elif mes == 10:\n",
    "        return(f'{dia} de outubro de {ano}.')\n",
    "    elif mes == 11:\n",
    "        return(f'{dia} de novembro de {ano}.')\n",
    "    elif mes == 12:\n",
    "        return(f'{dia} de dezembro de {ano}.')\n",
    "print(data_atual(26,11,1990))"
   ]
  },
  {
   "cell_type": "code",
   "execution_count": 16,
   "metadata": {},
   "outputs": [
    {
     "name": "stdout",
     "output_type": "stream",
     "text": [
      "0\n"
     ]
    }
   ],
   "source": [
    "#3.\n",
    "def sinal(a):\n",
    "    if a > 0:\n",
    "        return(1)\n",
    "    elif a < 0:\n",
    "        return(-1)\n",
    "    elif a == 0:\n",
    "        return(0)\n",
    "print(sinal(0))"
   ]
  },
  {
   "cell_type": "code",
   "execution_count": 17,
   "metadata": {},
   "outputs": [],
   "source": [
    "#4. NÃO REALIZADO"
   ]
  },
  {
   "cell_type": "code",
   "execution_count": 18,
   "metadata": {},
   "outputs": [
    {
     "name": "stdout",
     "output_type": "stream",
     "text": [
      "41.86666666666667\n"
     ]
    }
   ],
   "source": [
    "#5. \n",
    "def volume_esfera(raio):\n",
    "    v = (4/3) * (3.14) * raio\n",
    "    return(v)\n",
    "print(volume_esfera(10))"
   ]
  },
  {
   "cell_type": "code",
   "execution_count": 19,
   "metadata": {},
   "outputs": [
    {
     "name": "stdout",
     "output_type": "stream",
     "text": [
      "9057\n"
     ]
    }
   ],
   "source": [
    "#6. \n",
    "def segundos(horas,minutos,segundos):\n",
    "    h = 3600 * horas\n",
    "    m = 60 * minutos\n",
    "    total_segundos = h + m + segundos\n",
    "    return(total_segundos)\n",
    "print(segundos(2,30,57))"
   ]
  },
  {
   "cell_type": "code",
   "execution_count": 20,
   "metadata": {},
   "outputs": [
    {
     "name": "stdout",
     "output_type": "stream",
     "text": [
      "68.0\n"
     ]
    }
   ],
   "source": [
    "#7.\n",
    "def fahrenheit(celsius):\n",
    "    f = celsius * (9.0/5.0) + 32.0\n",
    "    return(f)\n",
    "print(fahrenheit(20))"
   ]
  },
  {
   "cell_type": "code",
   "execution_count": 22,
   "metadata": {},
   "outputs": [
    {
     "name": "stdout",
     "output_type": "stream",
     "text": [
      "7.0710678118654755\n"
     ]
    }
   ],
   "source": [
    "#8. \n",
    "def hipotenusa(a,b):\n",
    "    h = ((a**2) + (b**2)) ** (0.5)\n",
    "    return(h)\n",
    "print(hipotenusa(5,5))"
   ]
  },
  {
   "cell_type": "code",
   "execution_count": 23,
   "metadata": {},
   "outputs": [
    {
     "name": "stdout",
     "output_type": "stream",
     "text": [
      "62.83184\n"
     ]
    }
   ],
   "source": [
    "#9. \n",
    "def volume_cilindro(altura,raio):\n",
    "    v = (3.141592) * (raio**2) * altura\n",
    "    return(v)\n",
    "print(volume_cilindro(5,2))"
   ]
  },
  {
   "cell_type": "code",
   "execution_count": 28,
   "metadata": {},
   "outputs": [
    {
     "name": "stdout",
     "output_type": "stream",
     "text": [
      "10\n"
     ]
    }
   ],
   "source": [
    "#10.\n",
    "def maior(a,b):\n",
    "    if a > b:\n",
    "        return(a)\n",
    "    elif b > a:\n",
    "        return(b)\n",
    "    elif a == b:\n",
    "        return('Iguais')\n",
    "print(maior(10,5))"
   ]
  },
  {
   "cell_type": "code",
   "execution_count": 36,
   "metadata": {},
   "outputs": [
    {
     "name": "stdout",
     "output_type": "stream",
     "text": [
      "8.1\n"
     ]
    }
   ],
   "source": [
    "#11. \n",
    "def notas(a,b,c,d):\n",
    "    if d == 'a' or d == 'A':\n",
    "        media = (a + b + c) / 3\n",
    "        return(media)\n",
    "    elif d == 'p' or d == 'P':\n",
    "        media_ponderada = ((a*5) + (b*3) + (c*2)) / 10\n",
    "        return(media_ponderada)\n",
    "print(notas(10,5,8,'P'))"
   ]
  },
  {
   "cell_type": "code",
   "execution_count": 43,
   "metadata": {},
   "outputs": [
    {
     "name": "stdout",
     "output_type": "stream",
     "text": [
      "8\n"
     ]
    }
   ],
   "source": [
    "#12.\n",
    "def soma_algarismos(a):\n",
    "    s = 0\n",
    "    if a > 0:\n",
    "        while a:\n",
    "            s = s + (a % 10) #Soma 's' ao último numeral de n\n",
    "            a = a // 10 #Remove o último número de 'n'\n",
    "        return (s)\n",
    "    elif a <= 0:\n",
    "        return('Número inválido.')\n",
    "print(soma_algarismos(251))"
   ]
  },
  {
   "cell_type": "code",
   "execution_count": 49,
   "metadata": {},
   "outputs": [
    {
     "name": "stdout",
     "output_type": "stream",
     "text": [
      "50\n"
     ]
    }
   ],
   "source": [
    "#13.\n",
    "def operacao(a,b,simbolo):\n",
    "    if simbolo == '+':\n",
    "        return(a+b)\n",
    "    elif simbolo == '-':\n",
    "        return(a-b)\n",
    "    elif simbolo == '/':\n",
    "        return(a/b)\n",
    "    elif simbolo == '*':\n",
    "        return(a*b)\n",
    "print(operacao(10,5,'*'))"
   ]
  },
  {
   "cell_type": "code",
   "execution_count": 52,
   "metadata": {},
   "outputs": [
    {
     "name": "stdout",
     "output_type": "stream",
     "text": [
      "Venda o carro!\n"
     ]
    }
   ],
   "source": [
    "#14. \n",
    "def consumo(distancia,litros):\n",
    "    consumo = distancia/litros\n",
    "    if consumo < 8:\n",
    "        return('Venda o carro!')\n",
    "    elif consumo >= 8 and consumo <= 14:\n",
    "        return('Econômico!')\n",
    "    elif consumo > 14:\n",
    "        return('Super econômico!')\n",
    "print(consumo(300,55))\n"
   ]
  },
  {
   "cell_type": "code",
   "execution_count": 75,
   "metadata": {},
   "outputs": [
    {
     "name": "stdout",
     "output_type": "stream",
     "text": [
      "É um triângulo.\n",
      "Triângulo equilátero.\n"
     ]
    }
   ],
   "source": [
    "#15.\n",
    "def triangulo(a,b,c):\n",
    "    if a == 0 or b == 0 or c == 0:\n",
    "        return('Erro')\n",
    "    elif a < (b+c) and b < (a+c) and c < (a+b):\n",
    "        print('É um triângulo.')\n",
    "        if a == b and a == c and b == c:\n",
    "            return('Triângulo equilátero.')\n",
    "        elif a == b or a == c or b == c:\n",
    "            return('Triângulo isósceles.')\n",
    "        else:\n",
    "            return('Triângulo escaleno.')\n",
    "    else:\n",
    "        return('Não é um triângulo.')  \n",
    "print(triangulo(15,15,15))"
   ]
  },
  {
   "cell_type": "code",
   "execution_count": 77,
   "metadata": {},
   "outputs": [
    {
     "name": "stdout",
     "output_type": "stream",
     "text": [
      "==========\n"
     ]
    }
   ],
   "source": [
    "#16. \n",
    "def DesenhaLinha(a):\n",
    "    return('=' * a)\n",
    "print(DesenhaLinha(10))"
   ]
  },
  {
   "cell_type": "code",
   "execution_count": 4,
   "metadata": {},
   "outputs": [
    {
     "name": "stdout",
     "output_type": "stream",
     "text": [
      "135\n"
     ]
    }
   ],
   "source": [
    "#17. \n",
    "def somaN(a,b):\n",
    "    n = a + 1\n",
    "    cont = a + 2\n",
    "    while cont < b:\n",
    "        n = n + cont\n",
    "        cont = cont + 1\n",
    "    return(n)\n",
    "print(somaN(10,20))"
   ]
  },
  {
   "cell_type": "code",
   "execution_count": 5,
   "metadata": {},
   "outputs": [
    {
     "name": "stdout",
     "output_type": "stream",
     "text": [
      "1024\n"
     ]
    }
   ],
   "source": [
    "#18.\n",
    "def exponencial(x,z):\n",
    "    return(x**z)\n",
    "print(exponencial(2,10))"
   ]
  },
  {
   "cell_type": "code",
   "execution_count": 8,
   "metadata": {},
   "outputs": [],
   "source": [
    "#25.\n",
    "def serie(n):\n",
    "    while n < (n+2):\n",
    "        s = ((n**2) + 1) / (n + 3)\n",
    "        n = n +1\n",
    "    return(s)\n",
    "print(serie(1))"
   ]
  },
  {
   "cell_type": "code",
   "execution_count": 9,
   "metadata": {},
   "outputs": [
    {
     "name": "stdout",
     "output_type": "stream",
     "text": [
      "5050\n"
     ]
    }
   ],
   "source": [
    "#26. \n",
    "def inteiro(n):\n",
    "    a = 1\n",
    "    b = 2\n",
    "    while b <= n:\n",
    "        a = a + b\n",
    "        b = b + 1\n",
    "    return(a)\n",
    "print(inteiro(100))"
   ]
  },
  {
   "cell_type": "code",
   "execution_count": 17,
   "metadata": {},
   "outputs": [
    {
     "name": "stdout",
     "output_type": "stream",
     "text": [
      "5\n"
     ]
    }
   ],
   "source": [
    "#33.\n",
    "def soma_algarismos(n):\n",
    "    if n < 0:\n",
    "        n = n * (-1)\n",
    "    s = 0\n",
    "    while n:\n",
    "        s = s + (n % 10)\n",
    "        n = n // 10\n",
    "    return(s)\n",
    "print(soma_algarismos(-23))"
   ]
  },
  {
   "cell_type": "code",
   "execution_count": 20,
   "metadata": {},
   "outputs": [
    {
     "name": "stdout",
     "output_type": "stream",
     "text": [
      "O valor de a é 12.78 e o valor de b é -23.56.\n"
     ]
    }
   ],
   "source": [
    "#39.\n",
    "def troque():\n",
    "    a = float(input('Informe o valor de a:'))\n",
    "    b = float(input('Informe o valor de b:'))\n",
    "    return(f'O valor de a é {b} e o valor de b é {a}.')\n",
    "print(troque())"
   ]
  },
  {
   "cell_type": "code",
   "execution_count": 2,
   "metadata": {},
   "outputs": [
    {
     "name": "stdout",
     "output_type": "stream",
     "text": [
      "Informe quantos valores o vetor possui:10\n",
      "Informe o 1º valor: 1\n",
      "Informe o 2º valor: 2\n",
      "Informe o 3º valor: 3\n",
      "Informe o 4º valor: 4\n",
      "Informe o 5º valor: 5\n",
      "Informe o 6º valor: 6\n",
      "Informe o 7º valor: 7\n",
      "Informe o 8º valor: 8\n",
      "Informe o 9º valor: 9\n",
      "Informe o 10º valor: 10\n",
      "O vetor [1, 2, 3, 4, 5, 6, 7, 8, 9, 10] possui 5 número(s) par(es).\n"
     ]
    }
   ],
   "source": [
    "#40. \n",
    "def vetor_par():\n",
    "    n = int(input('Informe quantos valores o vetor possui:'))\n",
    "    vetor = []\n",
    "    cont = 0\n",
    "    for i in range(0,n):\n",
    "        valor = int(input(f'Informe o {i+1}º valor: '))\n",
    "        vetor.append(valor)\n",
    "        if valor % 2 == 0:\n",
    "            cont = cont + 1\n",
    "    return(f'O vetor {vetor} possui {cont} número(s) par(es).')\n",
    "print(vetor_par())"
   ]
  },
  {
   "cell_type": "code",
   "execution_count": 3,
   "metadata": {},
   "outputs": [
    {
     "name": "stdout",
     "output_type": "stream",
     "text": [
      "Número de valores do vetor:10\n",
      "Informe o 1º valor: 1\n",
      "Informe o 2º valor: 2\n",
      "Informe o 3º valor: 10\n",
      "Informe o 4º valor: 15\n",
      "Informe o 5º valor: -10\n",
      "Informe o 6º valor: 22\n",
      "Informe o 7º valor: -9\n",
      "Informe o 8º valor: 89\n",
      "Informe o 9º valor: 1\n",
      "Informe o 10º valor: 5\n",
      "89\n"
     ]
    }
   ],
   "source": [
    "#41.\n",
    "def vetor_maior_valor():\n",
    "    n = int(input('Número de valores do vetor:'))\n",
    "    vetor = []\n",
    "    for i in range(0,n):\n",
    "        vetor.append(int(input(f'Informe o {i+1}º valor: ')))\n",
    "    return(max(vetor))\n",
    "print(vetor_maior_valor()) "
   ]
  },
  {
   "cell_type": "code",
   "execution_count": 6,
   "metadata": {},
   "outputs": [
    {
     "name": "stdout",
     "output_type": "stream",
     "text": [
      "Número de valores do vetor: 10\n",
      "Informe o 1º valor: 1\n",
      "Informe o 2º valor: 2\n",
      "Informe o 3º valor: 3\n",
      "Informe o 4º valor: 4\n",
      "Informe o 5º valor: 5\n",
      "Informe o 6º valor: 6\n",
      "Informe o 7º valor: 7\n",
      "Informe o 8º valor: 8\n",
      "Informe o 9º valor: 9\n",
      "Informe o 10º valor: 10\n",
      "5.5\n"
     ]
    }
   ],
   "source": [
    "#42.\n",
    "def vetor_media():\n",
    "    n = int(input('Número de valores do vetor: '))\n",
    "    vetor = []\n",
    "    for i in range(0,n):\n",
    "        vetor.append(float(input(f'Informe o {i+1}º valor: ')))\n",
    "    soma = sum(vetor)\n",
    "    media = soma / n\n",
    "    return(media)\n",
    "print(vetor_media())"
   ]
  },
  {
   "cell_type": "code",
   "execution_count": 10,
   "metadata": {},
   "outputs": [
    {
     "name": "stdout",
     "output_type": "stream",
     "text": [
      "Número de valores do vetor: 50\n",
      "[154, -238, 410, -765, 94, -895, 107, -310, 483, 806, -91, 422, -534, 919, -991, 482, 431, 328, -808, -744, 370, -275, -833, 272, 821, -794, 565, 626, 285, 179, 989, 432, 195, -707, 693, -821, 704, -616, -532, -914, -552, 485, -220, -141, -849, 554, 597, -324, 589, -887]\n"
     ]
    }
   ],
   "source": [
    "#43.\n",
    "def vetor_sem_repeticao():\n",
    "    from random import randint\n",
    "    n = int(input('Número de valores do vetor: '))\n",
    "    vetor = []\n",
    "    while len(vetor) != n:\n",
    "        r = randint(-1000,1000)\n",
    "        if r not in vetor:\n",
    "            vetor.append(r)\n",
    "    return(vetor)\n",
    "print(vetor_sem_repeticao())       "
   ]
  },
  {
   "cell_type": "code",
   "execution_count": 27,
   "metadata": {},
   "outputs": [
    {
     "name": "stdout",
     "output_type": "stream",
     "text": [
      "Vetor A(par): [566, 576, 48, 574, 520, 750, 900, 720, 750, 558, 960, 518, 198, 674] Vetor B(ímpar): [763, 781, 501, 529, 941, 53, 497, 235, 495, 861, 115, 27, 705, 223, 397, 435]\n"
     ]
    }
   ],
   "source": [
    "#44.\n",
    "def vetor_x():\n",
    "    from random import randint\n",
    "    vetorX = []\n",
    "    A = []\n",
    "    B = []\n",
    "    for i in range(0,30):\n",
    "        valor = randint(0,1000)\n",
    "        if valor % 2 == 0:\n",
    "            A.append(valor)\n",
    "        else:\n",
    "            B.append(valor)\n",
    "        vetorX.append(valor)      \n",
    "    return(f'Vetor A(par): {A} Vetor B(ímpar): {B}')\n",
    "print(vetor_x())"
   ]
  },
  {
   "cell_type": "code",
   "execution_count": 32,
   "metadata": {},
   "outputs": [
    {
     "name": "stdout",
     "output_type": "stream",
     "text": [
      "Informe o nº de valores do vetor: 5\n",
      "1° valor: 1\n",
      "2° valor: 2\n",
      "3° valor: 3\n",
      "4° valor: 4\n",
      "5° valor: 5\n",
      "1.5811388300841898\n"
     ]
    }
   ],
   "source": [
    "#45.\n",
    "n = int(input('Informe o nº de valores do vetor: '))\n",
    "v = []\n",
    "for i in range(0,n):\n",
    "    valor = int(input(f'{i+1}° valor: '))\n",
    "    v.append(valor)\n",
    "def desvio_padrao(vetor):\n",
    "    a = 1 / (n-1)\n",
    "    media = sum(vetor) / len(vetor)\n",
    "    soma = 0\n",
    "    for valor in v:\n",
    "        soma = soma + ((valor - media)**2)\n",
    "    dp = (a * soma)**(0.5)\n",
    "    return(dp)\n",
    "print(desvio_padrao(v)) "
   ]
  },
  {
   "cell_type": "code",
   "execution_count": 1,
   "metadata": {},
   "outputs": [
    {
     "name": "stdout",
     "output_type": "stream",
     "text": [
      "Informe o nº de valores do vetor: 5\n",
      "1º valor: 1\n",
      "2º valor: 2\n",
      "3º valor: 3\n",
      "4º valor: 4\n",
      "5º valor: 5\n",
      "Vetor: [5.0, 4.0, 3.0, 2.0, 1.0] /// Vetor inverso: None /// Média dos elementos do vetor: 3.0\n"
     ]
    }
   ],
   "source": [
    "#46.\n",
    "n = int(input('Informe o nº de valores do vetor: '))\n",
    "v = []\n",
    "for i in range(0,n):\n",
    "    v.append(float(input(f'{i+1}º valor: ')))\n",
    "def vetor_real(vetor):\n",
    "    a = vetor.reverse()\n",
    "    media = sum(vetor) / len(vetor)\n",
    "    return(f'Vetor: {vetor} /// Vetor inverso: {a} /// Média dos elementos do vetor: {media}')\n",
    "print(vetor_real(v))"
   ]
  },
  {
   "cell_type": "code",
   "execution_count": 10,
   "metadata": {},
   "outputs": [
    {
     "name": "stdout",
     "output_type": "stream",
     "text": [
      "[1,1]: 1\n",
      "[1,2]: 2\n",
      "[1,3]: 3\n",
      "[1,4]: 4\n",
      "[2,1]: 5\n",
      "[2,2]: 6\n",
      "[2,3]: 7\n",
      "[2,4]: 8\n",
      "[3,1]: 9\n",
      "[3,2]: 1\n",
      "[3,3]: 2\n",
      "[3,4]: 3\n",
      "[4,1]: 4\n",
      "[4,2]: 5\n",
      "[4,3]: 6\n",
      "[4,4]: 7\n",
      "Matriz: [[1, 2, 3, 4], [5, 6, 7, 8], [9, 1, 2, 3], [4, 5, 6, 7]] /// Valores maiores que 10: 0\n"
     ]
    }
   ],
   "source": [
    "#47.\n",
    "def matriz_maior_10():\n",
    "    matriz = []\n",
    "    soma = 0\n",
    "    for i in range(0,4):\n",
    "        linha = []\n",
    "        for j in range(0,4):\n",
    "            valor = int(input(f'[{i+1},{j+1}]: '))\n",
    "            if valor > 10:\n",
    "                soma = soma + 1\n",
    "            linha.append(valor)\n",
    "        matriz.append(linha)\n",
    "    return(f'Matriz: {matriz} /// Valores maiores que 10: {soma}')\n",
    "print(matriz_maior_10())    "
   ]
  },
  {
   "cell_type": "code",
   "execution_count": 5,
   "metadata": {},
   "outputs": [
    {
     "name": "stdout",
     "output_type": "stream",
     "text": [
      "[1,1]: 1\n",
      "[1,2]: 2\n",
      "[1,3]: 3\n",
      "[2,1]: 4\n",
      "[2,2]: 5\n",
      "[2,3]: 6\n",
      "[3,1]: 7\n",
      "[3,2]: 8\n",
      "[3,3]: 9\n",
      "Matriz: [[1, 2, 3], [4, 5, 6], [7, 8, 9]] // Soma dos elementos acima da diagonal principal: 11\n"
     ]
    }
   ],
   "source": [
    "#48.\n",
    "def acima_diagonal_principal():\n",
    "    matriz = []\n",
    "    soma = []\n",
    "    for i in range(3):\n",
    "        linha = []\n",
    "        for j in range(3):\n",
    "            valor = int(input(f'[{i+1},{j+1}]: '))\n",
    "            linha.append(valor)\n",
    "            if j > i:\n",
    "                soma.append(valor)\n",
    "        matriz.append(linha)\n",
    "    s = sum(soma)\n",
    "    return(f'Matriz: {matriz} // Soma dos elementos acima da diagonal principal: {s}')\n",
    "print(acima_diagonal_principal())           "
   ]
  },
  {
   "cell_type": "code",
   "execution_count": 11,
   "metadata": {},
   "outputs": [
    {
     "name": "stdout",
     "output_type": "stream",
     "text": [
      "[1,1]: 1\n",
      "[1,2]: 2\n",
      "[1,3]: 3\n",
      "[2,1]: 4\n",
      "[2,2]: 5\n",
      "[2,3]: 6\n",
      "[3,1]: 7\n",
      "[3,2]: 8\n",
      "[3,3]: 9\n",
      "Matriz: [[1, 2, 3], [4, 5, 6], [7, 8, 9]] // Soma dos elementos abaixo da diagonal principal: 19\n"
     ]
    }
   ],
   "source": [
    "#49.\n",
    "def abaixo_diagonal_principal():\n",
    "    soma = []\n",
    "    matriz = []\n",
    "    for i in range(3):\n",
    "        linha = []\n",
    "        for j in range(3):\n",
    "            valor = int(input(f'[{i+1},{j+1}]: '))\n",
    "            linha.append(valor)\n",
    "            if i > j:\n",
    "                soma.append(valor)\n",
    "        matriz.append(linha)\n",
    "    s = sum(soma)\n",
    "    return(f'Matriz: {matriz} // Soma dos elementos abaixo da diagonal principal: {s}')\n",
    "print(abaixo_diagonal_principal())"
   ]
  },
  {
   "cell_type": "code",
   "execution_count": 16,
   "metadata": {},
   "outputs": [
    {
     "name": "stdout",
     "output_type": "stream",
     "text": [
      "[1,1]: 1\n",
      "[1,2]: 2\n",
      "[1,3]: 3\n",
      "[2,1]: 4\n",
      "[2,2]: 5\n",
      "[2,3]: 6\n",
      "[3,1]: 7\n",
      "[3,2]: 8\n",
      "[3,3]: 9\n",
      "Matriz: [[1, 2, 3], [4, 5, 6], [7, 8, 9]] // Soma diagonal principal: 15\n"
     ]
    }
   ],
   "source": [
    "#50. \n",
    "def soma_diagonal_principal():\n",
    "    soma = []\n",
    "    matriz = []\n",
    "    for i in range(3):\n",
    "        linha = []\n",
    "        for j in range(3):\n",
    "            valor = int(input(f'[{i+1},{j+1}]: '))\n",
    "            linha.append(valor)\n",
    "            if i == j:\n",
    "                soma.append(valor)\n",
    "        matriz.append(linha)\n",
    "    s = sum(soma)\n",
    "    return(f'Matriz: {matriz} // Soma diagonal principal: {s}')\n",
    "print(soma_diagonal_principal())"
   ]
  },
  {
   "cell_type": "code",
   "execution_count": 19,
   "metadata": {},
   "outputs": [
    {
     "name": "stdout",
     "output_type": "stream",
     "text": [
      "[1,1]: 1\n",
      "[1,2]: 2\n",
      "[1,3]: 3\n",
      "[2,1]: 4\n",
      "[2,2]: 5\n",
      "[2,3]: 6\n",
      "[3,1]: 7\n",
      "[3,2]: 8\n",
      "[3,3]: 9\n",
      "Matriz: [[], [7, 8, 9], [4, 5, 6]]\n"
     ]
    }
   ],
   "source": [
    "#51.NÃO FINALIZADO\n",
    "def soma_diagonal_secundaria():\n",
    "    nova_linha1 = []\n",
    "    nova_linha2 = []\n",
    "    nova_linha3 = []\n",
    "    nova_matriz = []\n",
    "    matriz = []\n",
    "    for i in range(3):\n",
    "        linha = []\n",
    "        for j in range(3):\n",
    "            valor = int(input(f'[{i+1},{j+1}]: '))\n",
    "            linha.append(valor)\n",
    "            if i == 1:\n",
    "                nova_linha3.append(valor)\n",
    "            elif i == 2:\n",
    "                nova_linha2.append(valor)\n",
    "            elif i == 3:\n",
    "                nova_linha1.append(valor)\n",
    "    nova_matriz.append(nova_linha1[:])\n",
    "    nova_matriz.append(nova_linha2[:])\n",
    "    nova_matriz.append(nova_linha3[:])\n",
    "    matriz.append(linha)\n",
    "    return(f'Matriz: {nova_matriz}')\n",
    "print(soma_diagonal_secundaria())"
   ]
  },
  {
   "cell_type": "code",
   "execution_count": 30,
   "metadata": {},
   "outputs": [
    {
     "name": "stdout",
     "output_type": "stream",
     "text": [
      "Informe a ordem da matriz: 2\n",
      "[1,1]: 1\n",
      "[1,2]: 0\n",
      "[2,1]: 0\n",
      "[2,2]: 1\n",
      "-=-=-=-=-=-=-=-=-=-=-=-=-=-=-=-=-=-=-=-=-=-=-=-=-=-=-=-=-=-=\n",
      "[[1, 0], [0, 1]]\n",
      "-=-=-=-=-=-=-=-=-=-=-=-=-=-=-=-=-=-=-=-=-=-=-=-=-=-=-=-=-=-=\n",
      "True\n"
     ]
    }
   ],
   "source": [
    "#53.\n",
    "n = int(input('Informe a ordem da matriz: '))\n",
    "matriz = []\n",
    "for i in range(n):\n",
    "    linha = []\n",
    "    for j in range(n):\n",
    "        valor = int(input(f'[{i+1},{j+1}]: '))\n",
    "        linha.append(valor)\n",
    "    matriz.append(linha)\n",
    "print('-=' * 30)\n",
    "print(matriz)\n",
    "print('-=' * 30)\n",
    "def matriz_identidade(matriz):\n",
    "    for i in range(len(matriz)):\n",
    "        for j in range(len(matriz)):\n",
    "            if i == j and matriz[i][j] != 1:\n",
    "                return(False)\n",
    "            elif i != j and matriz[i][j] != 0:\n",
    "                return(False)\n",
    "    return(True)\n",
    "print(matriz_identidade(matriz))"
   ]
  },
  {
   "cell_type": "code",
   "execution_count": 53,
   "metadata": {},
   "outputs": [
    {
     "name": "stdout",
     "output_type": "stream",
     "text": [
      "Ordem da matriz: 4\n",
      "[1,1]: 1\n",
      "[1,2]: 2\n",
      "[1,3]: 3\n",
      "[1,4]: 4\n",
      "[2,1]: 5\n",
      "[2,2]: 6\n",
      "[2,3]: 7\n",
      "[2,4]: 8\n",
      "[3,1]: 9\n",
      "[3,2]: 1\n",
      "[3,3]: 2\n",
      "[3,4]: 3\n",
      "[4,1]: 4\n",
      "[4,2]: 5\n",
      "[4,3]: 6\n",
      "[4,4]: 7\n",
      "-=-=-=-=-=-=-=-=-=-=-=-=-=-=-=-=-=-=-=-=-=-=-=-=-=-=-=-=-=-=\n",
      "[[1, 2, 3, 4], [5, 6, 7, 8], [9, 1, 2, 3], [4, 5, 6, 7]]\n",
      "-=-=-=-=-=-=-=-=-=-=-=-=-=-=-=-=-=-=-=-=-=-=-=-=-=-=-=-=-=-=\n",
      "73\n"
     ]
    }
   ],
   "source": [
    "#54.\n",
    "matriz = []\n",
    "ordem = int(input('Ordem da matriz: '))\n",
    "for i in range(ordem):\n",
    "    linha = []\n",
    "    for j in range(ordem):\n",
    "        linha.append(int(input(f'[{i+1},{j+1}]: ')))\n",
    "    matriz.append(linha)\n",
    "print('-=' * 30)\n",
    "print(matriz)\n",
    "print('-=' * 30)\n",
    "\n",
    "def soma_matriz(matriz):\n",
    "    if len(matriz) != 4:\n",
    "        return('A matriz não é de ordem 4.')\n",
    "    else:\n",
    "        soma = []\n",
    "        for i in range(len(matriz)):\n",
    "            for j in range(len(matriz)):\n",
    "                soma.append(matriz[i][j])\n",
    "        s = sum(soma)\n",
    "        return(f'{s}')\n",
    "print(soma_matriz(matriz))"
   ]
  },
  {
   "cell_type": "code",
   "execution_count": 56,
   "metadata": {},
   "outputs": [
    {
     "name": "stdout",
     "output_type": "stream",
     "text": [
      "Ordem da matriz: 2\n",
      "[1,1]1\n",
      "[1,2]2\n",
      "[2,1]3\n",
      "[2,2]4\n",
      "-=-=-=-=-=-=-=-=-=-=-=-=-=-=-=-=-=-=-=-=-=-=-=-=-=-=-=-=-=-=\n",
      "[[1, 2], [3, 4]]\n",
      "-=-=-=-=-=-=-=-=-=-=-=-=-=-=-=-=-=-=-=-=-=-=-=-=-=-=-=-=-=-=\n",
      "A ordem da matriz não é 3.\n"
     ]
    }
   ],
   "source": [
    "#55.\n",
    "ordem = int(input('Ordem da matriz: '))\n",
    "A = []\n",
    "for i in range(ordem):\n",
    "    linha = []\n",
    "    for j in range(ordem):\n",
    "        linha.append(int(input(f'[{i+1},{j+1}]')))\n",
    "    A.append(linha)\n",
    "print('-=' * 30)\n",
    "print(A)\n",
    "print('-=' * 30)\n",
    "\n",
    "def soma_diagonal_principal(matriz):\n",
    "    if len(matriz) != 3:\n",
    "        return('A ordem da matriz não é 3.')\n",
    "    else:\n",
    "        soma = []\n",
    "        for i in range(len(matriz)):\n",
    "            for j in range(len(matriz)):\n",
    "                if i == j:\n",
    "                    soma.append(matriz[i][j])\n",
    "        s = sum(soma)\n",
    "        return(s)\n",
    "    \n",
    "print(soma_diagonal_principal(A))"
   ]
  },
  {
   "cell_type": "code",
   "execution_count": 77,
   "metadata": {},
   "outputs": [
    {
     "name": "stdout",
     "output_type": "stream",
     "text": [
      "Nº de linhas da matriz: 3\n",
      "Nº de colunas da matriz: 3\n",
      "[1,1]: 1\n",
      "[1,2]: 2\n",
      "[1,3]: 3\n",
      "[2,1]: 4\n",
      "[2,2]: 5\n",
      "[2,3]: 6\n",
      "[3,1]: 7\n",
      "[3,2]: 8\n",
      "[3,3]: 9\n",
      "-=-=-=-=-=-=-=-=-=-=-=-=-=-=-=-=-=-=-=-=-=-=-=-=-=-=-=-=-=-=\n",
      "[[1, 2, 3], [4, 5, 6], [7, 8, 9]]\n",
      "-=-=-=-=-=-=-=-=-=-=-=-=-=-=-=-=-=-=-=-=-=-=-=-=-=-=-=-=-=-=\n",
      "11\n"
     ]
    }
   ],
   "source": [
    "#56.\n",
    "linhas = int(input('Nº de linhas da matriz: '))\n",
    "colunas = int(input('Nº de colunas da matriz: '))\n",
    "matriz = []\n",
    "for i in range(linhas):\n",
    "    linha = []\n",
    "    for j in range(colunas):\n",
    "        linha.append(int(input(f'[{i+1},{j+1}]: ')))\n",
    "    matriz.append(linha)\n",
    "print('-=' * 30)\n",
    "print(matriz)\n",
    "print('-=' * 30)\n",
    "\n",
    "def soma_elementos_linha(matriz,N):\n",
    "    soma = []\n",
    "    for i in range(1, len(matriz), 1):\n",
    "        for j in range(1, len(matriz), 1):\n",
    "            if i == N:\n",
    "                soma.append(matriz[i][j])\n",
    "    s = sum(soma)\n",
    "    return(f'{s}')\n",
    "\n",
    "print(soma_elementos_linha(matriz,1))"
   ]
  },
  {
   "cell_type": "code",
   "execution_count": null,
   "metadata": {},
   "outputs": [],
   "source": []
  }
 ],
 "metadata": {
  "kernelspec": {
   "display_name": "Python 3",
   "language": "python",
   "name": "python3"
  },
  "language_info": {
   "codemirror_mode": {
    "name": "ipython",
    "version": 3
   },
   "file_extension": ".py",
   "mimetype": "text/x-python",
   "name": "python",
   "nbconvert_exporter": "python",
   "pygments_lexer": "ipython3",
   "version": "3.7.6"
  }
 },
 "nbformat": 4,
 "nbformat_minor": 2
}
