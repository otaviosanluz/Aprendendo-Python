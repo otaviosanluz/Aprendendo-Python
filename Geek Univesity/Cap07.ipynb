{
 "cells": [
  {
   "cell_type": "markdown",
   "metadata": {},
   "source": [
    "# Capítulo 07 : Coleções em Python"
   ]
  },
  {
   "cell_type": "markdown",
   "metadata": {},
   "source": [
    "## Capítulo 07b"
   ]
  },
  {
   "cell_type": "code",
   "execution_count": 1,
   "metadata": {},
   "outputs": [
    {
     "name": "stdout",
     "output_type": "stream",
     "text": [
      "<class 'list'>\n",
      "[1, 0, 5, -2, -5, 7]\n",
      "A soma dos índices 0, 1 e 5 é 8.\n",
      "[1, 0, 5, -2, 100, 7]\n",
      "1\n",
      "0\n",
      "5\n",
      "-2\n",
      "100\n",
      "7\n"
     ]
    }
   ],
   "source": [
    "#1.\n",
    "#a. \n",
    "A = [1, 0, 5, -2, -5, 7] #Lista A\n",
    "print(type(A))\n",
    "print(A)\n",
    "\n",
    "#b. \n",
    "soma = A[0] + A[1] + A[5] #Somando os índices 0, 1 e 5\n",
    "print(f'A soma dos índices 0, 1 e 5 é {soma}.')\n",
    "\n",
    "#c. \n",
    "A[4] = 100 #Modificando valor do índice 4\n",
    "print(A)\n",
    "\n",
    "#d.\n",
    "print(A[0])\n",
    "print(A[1])\n",
    "print(A[2])\n",
    "print(A[3])\n",
    "print(A[4])\n",
    "print(A[5])"
   ]
  },
  {
   "cell_type": "code",
   "execution_count": 2,
   "metadata": {},
   "outputs": [
    {
     "name": "stdout",
     "output_type": "stream",
     "text": [
      "10\n",
      "1\n",
      "2\n",
      "3\n",
      "4\n",
      "5\n",
      "[10, 1, 2, 3, 4, 5]\n"
     ]
    }
   ],
   "source": [
    "#2. \n",
    "valores = [int(input()) for i in range(0,6)] #Lista com valores inseridos pelo usuário dentro de um range até 6\n",
    "print(valores)\n"
   ]
  },
  {
   "cell_type": "code",
   "execution_count": 4,
   "metadata": {},
   "outputs": [
    {
     "name": "stdout",
     "output_type": "stream",
     "text": [
      "1\n",
      "2\n",
      "3\n",
      "4\n",
      "5\n",
      "6\n",
      "7\n",
      "8\n",
      "9\n",
      "10\n",
      "[1.0, 2.0, 3.0, 4.0, 5.0, 6.0, 7.0, 8.0, 9.0, 10.0]\n",
      "[1.0, 4.0, 9.0, 16.0, 25.0, 36.0, 49.0, 64.0, 81.0, 100.0]\n"
     ]
    }
   ],
   "source": [
    "#3.\n",
    "conj = [float(input()) for i in range(10)] #Criando um vetor tipo float com 10 elementos\n",
    "print(conj)\n",
    "quadrado = []\n",
    "\n",
    "for i in conj: #Para cada item do conj\n",
    "    quadrado1 = i**2 #Quadrado de cada item\n",
    "    quadrado.append(quadrado1) #Criando uma lista com o quadrado de cada item\n",
    "print(quadrado)\n",
    "\n",
    "\n"
   ]
  },
  {
   "cell_type": "code",
   "execution_count": 5,
   "metadata": {},
   "outputs": [
    {
     "name": "stdout",
     "output_type": "stream",
     "text": [
      "1\n",
      "2\n",
      "3\n",
      "4\n",
      "5\n",
      "6\n",
      "7\n",
      "8\n",
      "[1, 2, 3, 4, 5, 6, 7, 8]\n",
      "X + Y = 12\n"
     ]
    }
   ],
   "source": [
    "# 4.\n",
    "vetor = [int(input()) for i in range(8)] #Criando vetor com 8 posições\n",
    "print(vetor)\n",
    "\n",
    "x = vetor[3] #O valor 'x' é o índice 3 do vetor\n",
    "y = vetor[7] #O valor 'y' é o índice 7 do vetor\n",
    "\n",
    "soma = x + y #Soma de x e y\n",
    "print(f'X + Y = {soma}')"
   ]
  },
  {
   "cell_type": "code",
   "execution_count": 6,
   "metadata": {},
   "outputs": [
    {
     "name": "stdout",
     "output_type": "stream",
     "text": [
      "1\n",
      "2\n",
      "3\n",
      "4\n",
      "5\n",
      "6\n",
      "7\n",
      "8\n",
      "9\n",
      "10\n",
      "[1, 2, 3, 4, 5, 6, 7, 8, 9, 10]\n",
      "Valores pares do vetor: [2, 4, 6, 8, 10]\n",
      "O vetor possui 5 valores pares.\n"
     ]
    }
   ],
   "source": [
    "#5.\n",
    "vetor = [int(input()) for i in range(10)] #Vetor com 10 posições\n",
    "print(vetor)\n",
    "par = []\n",
    "cont = 0\n",
    "for elemento in vetor:\n",
    "    if elemento % 2 == 0:\n",
    "        par.append(elemento)\n",
    "        cont = cont + 1\n",
    "\n",
    "print(f'Valores pares do vetor: {par}')\n",
    "print(f'O vetor possui {cont} valores pares.')"
   ]
  },
  {
   "cell_type": "code",
   "execution_count": 7,
   "metadata": {},
   "outputs": [
    {
     "name": "stdout",
     "output_type": "stream",
     "text": [
      "1\n",
      "2\n",
      "3\n",
      "4\n",
      "5\n",
      "6\n",
      "7\n",
      "8\n",
      "9\n",
      "10\n",
      "[1, 2, 3, 4, 5, 6, 7, 8, 9, 10]\n",
      "10\n",
      "1\n"
     ]
    }
   ],
   "source": [
    "## 6.\n",
    "vetor = [int(input()) for i in range(10)] #Vetor com 10 posições\n",
    "print(vetor)\n",
    "print(max(vetor)) #Valor máximo do vetor\n",
    "print(min(vetor)) #Valor mínimo do vetor"
   ]
  },
  {
   "cell_type": "code",
   "execution_count": 8,
   "metadata": {},
   "outputs": [
    {
     "name": "stdout",
     "output_type": "stream",
     "text": [
      "1\n",
      "2\n",
      "3\n",
      "4\n",
      "5\n",
      "6\n",
      "7\n",
      "8\n",
      "9\n",
      "10\n",
      "[1, 2, 3, 4, 5, 6, 7, 8, 9, 10]\n",
      "O valor máximo do vetor é 10.\n",
      "A posição do valor máximo do vetor é 9.\n"
     ]
    }
   ],
   "source": [
    "#7.\n",
    "vetor = [int(input()) for i in range(10)] #Vetor com 10 posições\n",
    "print(vetor)\n",
    "maximo = max(vetor)\n",
    "print(f'O valor máximo do vetor é {maximo}.')\n",
    "posiçao = vetor.index(maximo)\n",
    "print(f'A posição do valor máximo do vetor é {posiçao}.')\n"
   ]
  },
  {
   "cell_type": "code",
   "execution_count": 9,
   "metadata": {},
   "outputs": [
    {
     "name": "stdout",
     "output_type": "stream",
     "text": [
      "1\n",
      "2\n",
      "3\n",
      "4\n",
      "5\n",
      "6\n",
      "[6, 5, 4, 3, 2, 1]\n"
     ]
    }
   ],
   "source": [
    "#8. \n",
    "valor = [int(input()) for item in range(6)] #Vetor com 6 valores\n",
    "valor.reverse() #Valores na forma inversa\n",
    "print(valor)"
   ]
  },
  {
   "cell_type": "code",
   "execution_count": 10,
   "metadata": {},
   "outputs": [
    {
     "name": "stdout",
     "output_type": "stream",
     "text": [
      "Digite um número par: 10\n",
      "Digite um número par: 12\n",
      "Digite um número par: 36\n",
      "Digite um número par: 44\n",
      "Digite um número par: 46\n",
      "Digite um número par: 8\n",
      "[10, 12, 36, 44, 46, 8]\n",
      "[8, 46, 44, 36, 12, 10]\n"
     ]
    }
   ],
   "source": [
    "#9. \n",
    "vetor = []\n",
    "for item in range(6): #Para cada item até 6\n",
    "    valor = int(input('Digite um número par: '))\n",
    "    while valor % 2 != 0: #Enquanto o valor for diferente de par\n",
    "        valor = int(input('O número informado não é válido!     Digite um número par: '))\n",
    "    if valor % 2 == 0: #Se o valor for par\n",
    "        vetor.append(valor) #Lista de valores pares\n",
    "print(vetor)\n",
    "vetor.reverse() #Revertendo a lista de valores pares\n",
    "print(vetor)\n",
    "\n"
   ]
  },
  {
   "cell_type": "code",
   "execution_count": 11,
   "metadata": {},
   "outputs": [
    {
     "name": "stdout",
     "output_type": "stream",
     "text": [
      "Digite um número par: 11\n",
      "O número informado não é válido!     Digite um número par: 8\n",
      "Digite um número par: 9\n",
      "O número informado não é válido!     Digite um número par: 2\n",
      "Digite um número par: 4\n",
      "Digite um número par: 6\n",
      "Digite um número par: 12\n",
      "Digite um número par: 14\n",
      "[8, 2, 4, 6, 12, 14]\n"
     ]
    }
   ],
   "source": [
    "#10. \n",
    "vetor = []\n",
    "for item in range(6): #Para cada item até 6\n",
    "    valor = int(input('Digite um número par: '))\n",
    "    while valor % 2 != 0: #Enquanto o valor for diferente de par\n",
    "        valor = int(input('O número informado não é válido!     Digite um número par: '))\n",
    "    if valor % 2 == 0: #Se o valor for par\n",
    "        vetor.append(valor) #Lista de valores pares\n",
    "print(vetor)"
   ]
  },
  {
   "cell_type": "code",
   "execution_count": 12,
   "metadata": {},
   "outputs": [
    {
     "name": "stdout",
     "output_type": "stream",
     "text": [
      "Informe a nota do aluno.10\n",
      "Informe a nota do aluno.8\n",
      "Informe a nota do aluno.12\n",
      "Informe a nota do aluno.35\n",
      "Informe a nota do aluno.11\n",
      "Informe a nota do aluno.2\n",
      "Informe a nota do aluno.4\n",
      "Informe a nota do aluno.2\n",
      "Informe a nota do aluno.8\n",
      "Informe a nota do aluno.9\n",
      "Informe a nota do aluno.0\n",
      "Nota inválida. Informe novamente.12\n",
      "Informe a nota do aluno.45\n",
      "Informe a nota do aluno.23\n",
      "Informe a nota do aluno.12\n",
      "Informe a nota do aluno.11\n",
      "[10.0, 8.0, 12.0, 35.0, 11.0, 2.0, 4.0, 2.0, 8.0, 9.0, 12.0, 45.0, 23.0, 12.0, 11.0]\n",
      "A média geral da turma é 13.6.\n"
     ]
    }
   ],
   "source": [
    "#11.\n",
    "vetor = []\n",
    "for item in range(15):\n",
    "    nota = float(input('Informe a nota do aluno.'))\n",
    "    while nota < 1:\n",
    "        nota = float(input('Nota inválida. Informe novamente.'))\n",
    "    while nota > 100:\n",
    "        nota = float(input('Nota inválida. Informe novamente.'))\n",
    "    if nota >= 1 and nota <= 100:\n",
    "        vetor.append(nota)\n",
    "print(vetor)\n",
    "soma = sum(vetor)\n",
    "media = soma / 15\n",
    "print(f'A média geral da turma é {media}.')\n"
   ]
  },
  {
   "cell_type": "code",
   "execution_count": 13,
   "metadata": {},
   "outputs": [
    {
     "name": "stdout",
     "output_type": "stream",
     "text": [
      "Informe um valor: 1\n",
      "Informe um valor: 2\n",
      "Informe um valor: 3\n",
      "Informe um valor: 4\n",
      "Informe um valor: 5\n",
      "Informe um valor: 6\n",
      "Informe um valor: 7\n",
      "Informe um valor: 8\n",
      "Informe um valor: 9\n",
      "Informe um valor: 1\n",
      "Vetor: [1.0, 2.0, 3.0, 4.0, 5.0, 6.0, 7.0, 8.0, 9.0, 1.0]\n",
      "Números positivos: [1.0, 2.0, 3.0, 4.0, 5.0, 6.0, 7.0, 8.0, 9.0, 1.0]. Soma dos número positivos: 46.0\n",
      "Número negativos: []. O vetor possui 0 número(s) negativo(s).\n"
     ]
    }
   ],
   "source": [
    "#12.\n",
    "vetortotal = []\n",
    "vetorneg = []\n",
    "vetorpos = []\n",
    "cont = 0\n",
    "for item in range(10): #Para cada item em um range até 10\n",
    "    valor = float(input('Informe um valor: ')) #Valor tipo real\n",
    "    vetortotal.append(valor) #Vetor com o valor real informado\n",
    "    if valor < 0: #Se o valor for negativo\n",
    "        cont = cont + 1\n",
    "        vetorneg.append(valor) #Vetor dos valores negativos\n",
    "    elif valor > 0: #Se o valor for positivo\n",
    "        vetorpos.append(valor) #Vetor dos valores positivos\n",
    "soma = sum(vetorpos) #Soma dos valores do vetor positivo\n",
    "print(f'Vetor: {vetortotal}')\n",
    "print(f'Números positivos: {vetorpos}. Soma dos número positivos: {soma}')\n",
    "print(f'Número negativos: {vetorneg}. O vetor possui {cont} número(s) negativo(s).')\n",
    "\n"
   ]
  },
  {
   "cell_type": "code",
   "execution_count": 14,
   "metadata": {},
   "outputs": [
    {
     "name": "stdout",
     "output_type": "stream",
     "text": [
      "12\n",
      "11\n",
      "10\n",
      "9\n",
      "8\n",
      "O maior valor do vetor é 12 e sua posição é a 0.\n"
     ]
    }
   ],
   "source": [
    "#13.\n",
    "vetor = [int(input()) for item in range(5)]\n",
    "maior = max(vetor)\n",
    "menor = min(vetor)\n",
    "posiçao = vetor.index(maior)\n",
    "print(f'O maior valor do vetor é {maior} e sua posição é a {posiçao}.')"
   ]
  },
  {
   "cell_type": "code",
   "execution_count": 15,
   "metadata": {},
   "outputs": [
    {
     "name": "stdout",
     "output_type": "stream",
     "text": [
      "1\n",
      "2\n",
      "3\n",
      "4\n",
      "5\n",
      "6\n",
      "7\n",
      "8\n",
      "9\n",
      "11\n",
      "Valores / Repetições: Counter({1: 1, 2: 1, 3: 1, 4: 1, 5: 1, 6: 1, 7: 1, 8: 1, 9: 1, 11: 1})\n"
     ]
    }
   ],
   "source": [
    "#14.\n",
    "vetor = [int(input()) for item in range(10)]\n",
    "\n",
    "from collections import Counter #Importando método counter\n",
    "\n",
    "iguais = Counter(vetor) #Conta quantas vezes aparece determinado valor\n",
    "print(f'Valores / Repetições: {iguais}')\n"
   ]
  },
  {
   "cell_type": "code",
   "execution_count": 16,
   "metadata": {},
   "outputs": [
    {
     "name": "stdout",
     "output_type": "stream",
     "text": [
      "12\n",
      "1\n",
      "2\n",
      "3\n",
      "4\n",
      "5\n",
      "5\n",
      "6\n",
      "7\n",
      "8\n",
      "9\n",
      "0\n",
      "0\n",
      "0\n",
      "9\n",
      "8\n",
      "7\n",
      "6\n",
      "7\n",
      "4\n",
      "[0, 0, 0, 1, 2, 3, 4, 4, 5, 5, 6, 6, 7, 7, 7, 8, 8, 9, 9, 12]\n",
      "[0, 1, 2, 3, 4, 5, 6, 7, 8, 9, 12]\n"
     ]
    }
   ],
   "source": [
    "#15.\n",
    "vetor = [int(input()) for item in range(20)]\n",
    "\n",
    "a = sorted(vetor) #Organiza o vetor em ordem crescente\n",
    "print(a)\n",
    "b= sorted(set(vetor)) #Organiza os vetores em ordem crescente e elimina os valores repetidos\n",
    "print(b)"
   ]
  },
  {
   "cell_type": "code",
   "execution_count": 18,
   "metadata": {},
   "outputs": [
    {
     "name": "stdout",
     "output_type": "stream",
     "text": [
      "Informe um valor1\n",
      "Informe um valor2\n",
      "Informe um valor3\n",
      "Informe um valor4\n",
      "Informe um valor5\n",
      "[1.0, 2.0, 3.0, 4.0, 5.0]\n",
      "Informe um código (1 ou 2): 1\n",
      "[1.0, 2.0, 3.0, 4.0, 5.0]\n"
     ]
    }
   ],
   "source": [
    "#16. \n",
    "vetor = []\n",
    "for item in range(5):\n",
    "    valor = float(input('Informe um valor'))\n",
    "    vetor.append(valor)\n",
    "print(vetor)\n",
    "\n",
    "codigo = int(input('Informe um código (1 ou 2): '))\n",
    "if codigo != 1 and codigo != 2:\n",
    "    print('Código inválido!')\n",
    "if codigo == 1:\n",
    "    print(vetor)\n",
    "elif codigo == 2:\n",
    "    vetor.reverse()\n",
    "    print(vetor)"
   ]
  },
  {
   "cell_type": "code",
   "execution_count": 19,
   "metadata": {},
   "outputs": [
    {
     "name": "stdout",
     "output_type": "stream",
     "text": [
      "Informe um valor.1\n",
      "Informe um valor.2\n",
      "Informe um valor.3\n",
      "Informe um valor.4\n",
      "Informe um valor.5\n",
      "Informe um valor.6\n",
      "Informe um valor.7\n",
      "Informe um valor.8\n",
      "Informe um valor.9\n",
      "Informe um valor.10\n",
      "[1, 2, 3, 4, 5, 6, 7, 8, 9, 10]\n"
     ]
    }
   ],
   "source": [
    "#17.\n",
    "vetor = []\n",
    "for elemento in range(10):\n",
    "    valor = int(input('Informe um valor.'))\n",
    "    if valor < 0: #Se o valor informado for menor que 0\n",
    "        vetor.append(0) #Adicionar o valor 0 no vetor\n",
    "    else: \n",
    "        vetor.append(valor) #Adicionar o valor informado no vetor\n",
    "print(vetor)"
   ]
  },
  {
   "cell_type": "code",
   "execution_count": 20,
   "metadata": {},
   "outputs": [
    {
     "name": "stdout",
     "output_type": "stream",
     "text": [
      "Informe o valor de x.10\n",
      "Informe um valor.0\n",
      "Informe um valor.1\n",
      "Informe um valor.2\n",
      "Informe um valor.3\n",
      "Informe um valor.4\n",
      "Informe um valor.5\n",
      "Informe um valor.6\n",
      "Informe um valor.7\n",
      "Informe um valor.8\n",
      "Informe um valor.0\n",
      "O número 10 possui 2 múltiplo(s): [0, 0]\n"
     ]
    }
   ],
   "source": [
    "#18.\n",
    "vetor = []\n",
    "cont = 0\n",
    "x = int(input('Informe o valor de x.'))\n",
    "for elemento in range(10):\n",
    "    valor = int(input('Informe um valor.'))\n",
    "    if valor % x == 0:\n",
    "        vetor.append(valor)\n",
    "        cont = cont + 1\n",
    "print(f'O número {x} possui {cont} múltiplo(s): {vetor}')"
   ]
  },
  {
   "cell_type": "code",
   "execution_count": 21,
   "metadata": {},
   "outputs": [
    {
     "name": "stdout",
     "output_type": "stream",
     "text": [
      "[0, 0, 2, 0, 1, 2, 3, 4, 5, 6, 7, 8, 9, 10, 11, 12, 13, 14, 15, 16, 17, 18, 19, 20, 21, 22, 23, 24, 25, 26, 27, 28, 29, 30, 31, 32, 33, 34, 35, 36, 37, 38, 39, 40, 41, 42, 43, 44, 45, 46]\n"
     ]
    }
   ],
   "source": [
    "#19.\n",
    "vetor = []\n",
    "cont = 0 #Indice\n",
    "for item in range(50):\n",
    "    elemento = ((cont + 5) * cont) % (cont + 1) \n",
    "    vetor.append(elemento)\n",
    "    cont = cont +1 #Indice + 1\n",
    "print(vetor)"
   ]
  },
  {
   "cell_type": "code",
   "execution_count": 22,
   "metadata": {},
   "outputs": [
    {
     "name": "stdout",
     "output_type": "stream",
     "text": [
      "Informe um valor no intervalo [0,50]: 11\n",
      "Informe um valor no intervalo [0,50]: -20\n",
      "Valor inválido! Informe um valor no intervalo [0,50]: 1\n",
      "Informe um valor no intervalo [0,50]: 2\n",
      "Informe um valor no intervalo [0,50]: 33\n",
      "Informe um valor no intervalo [0,50]: 555\n",
      "Valor inválido. Informe um valor no intervalo [0,50]: 34\n",
      "Informe um valor no intervalo [0,50]: 12\n",
      "Informe um valor no intervalo [0,50]: 1\n",
      "Informe um valor no intervalo [0,50]: 2\n",
      "Informe um valor no intervalo [0,50]: 3\n",
      "Informe um valor no intervalo [0,50]: 4\n",
      "[11, 1, 2, 33, 34, 12, 1, 2, 3, 4]\n",
      "[11, 1, 33, 1, 3]\n"
     ]
    }
   ],
   "source": [
    "#20. FALTOU A IMPRESSÃO DE DOIS ELEMENTOS DOS VETORES POR LINHA\n",
    "vetor = []\n",
    "impar = []\n",
    "for item in range(10):\n",
    "    valor = int(input('Informe um valor no intervalo [0,50]: '))\n",
    "    while valor < 0:\n",
    "        valor = int(input('Valor inválido! Informe um valor no intervalo [0,50]: '))\n",
    "    while valor > 50:\n",
    "        valor = int(input('Valor inválido. Informe um valor no intervalo [0,50]: '))\n",
    "    vetor.append(valor)\n",
    "    if valor % 2 != 0:\n",
    "        impar.append(valor)\n",
    "print(vetor)\n",
    "print(impar)\n",
    "\n"
   ]
  },
  {
   "cell_type": "code",
   "execution_count": 23,
   "metadata": {},
   "outputs": [
    {
     "name": "stdout",
     "output_type": "stream",
     "text": [
      "Informe um valor para o vetor A.0\n",
      "Informe um valor para o vetor B.2\n",
      "Informe um valor para o vetor A.4\n",
      "Informe um valor para o vetor B.5\n",
      "Informe um valor para o vetor A.7\n",
      "Informe um valor para o vetor B.2\n",
      "Informe um valor para o vetor A.4\n",
      "Informe um valor para o vetor B.2\n",
      "Informe um valor para o vetor A.8\n",
      "Informe um valor para o vetor B.1\n",
      "Informe um valor para o vetor A.9\n",
      "Informe um valor para o vetor B.3\n",
      "Informe um valor para o vetor A.0\n",
      "Informe um valor para o vetor B.6\n",
      "Informe um valor para o vetor A.9\n",
      "Informe um valor para o vetor B.-10\n",
      "Informe um valor para o vetor A.-11\n",
      "Informe um valor para o vetor B.1\n",
      "Informe um valor para o vetor A.2\n",
      "Informe um valor para o vetor B.3\n",
      "None\n",
      "None\n",
      "A - B: [-2, -1, 5, 2, 7, 6, -6, 19, -12, -1]\n"
     ]
    }
   ],
   "source": [
    "#21.\n",
    "a = []\n",
    "b = []\n",
    "c = []\n",
    "for elemento in range(10):\n",
    "    valora = int(input('Informe um valor para o vetor A.'))\n",
    "    valorb = int(input('Informe um valor para o vetor B.'))\n",
    "    valorc = valora - valorb\n",
    "    c.append(valorc)\n",
    "print(a.append(valora))\n",
    "print(a.append(valorb))\n",
    "print(f'A - B: {c}')"
   ]
  },
  {
   "cell_type": "code",
   "execution_count": 24,
   "metadata": {},
   "outputs": [
    {
     "name": "stdout",
     "output_type": "stream",
     "text": [
      "Informe um valor para o vetor A.1\n",
      "Informe um valor para o vetor B.2\n",
      "Informe um valor para o vetor A.3\n",
      "Informe um valor para o vetor B.4\n",
      "Informe um valor para o vetor A.5\n",
      "Informe um valor para o vetor B.6\n",
      "Informe um valor para o vetor A.7\n",
      "Informe um valor para o vetor B.8\n",
      "Informe um valor para o vetor A.9\n",
      "Informe um valor para o vetor B.1\n",
      "Informe um valor para o vetor A.2\n",
      "Informe um valor para o vetor B.3\n",
      "Informe um valor para o vetor A.4\n",
      "Informe um valor para o vetor B.5\n",
      "Informe um valor para o vetor A.6\n",
      "Informe um valor para o vetor B.7\n",
      "Informe um valor para o vetor A.8\n",
      "Informe um valor para o vetor B.9\n",
      "Informe um valor para o vetor A.1\n",
      "Informe um valor para o vetor B.2\n",
      "Vetor A: [1, 3, 5, 7, 9, 2, 4, 6, 8, 1]\n",
      "Vetor B: [2, 4, 6, 8, 1, 3, 5, 7, 9, 2]\n",
      "Vetor C: [1, 4, 5, 8, 9, 3, 4, 7, 8, 2]\n"
     ]
    }
   ],
   "source": [
    "#22.\n",
    "a = []\n",
    "b = []\n",
    "c = []\n",
    "pos = 0 #Indice\n",
    "for elemento in range(10):\n",
    "    valora = int(input('Informe um valor para o vetor A.')) #Valores do vetor A\n",
    "    valorb = int(input('Informe um valor para o vetor B.')) #Valores do vetor B\n",
    "    if pos % 2 == 0: #Se o resto da divisao indice/2 = 0\n",
    "        c.append(valora) \n",
    "    else:\n",
    "        c.append(valorb)\n",
    "    pos = pos + 1\n",
    "    a.append(valora)\n",
    "    b.append(valorb)\n",
    "\n",
    "print(f'Vetor A: {a}')\n",
    "print(f'Vetor B: {b}')\n",
    "print(f'Vetor C: {c}')\n"
   ]
  },
  {
   "cell_type": "code",
   "execution_count": 25,
   "metadata": {},
   "outputs": [
    {
     "name": "stdout",
     "output_type": "stream",
     "text": [
      "Informe um valor para o vetor A.1\n",
      "Informe um valor para o vetor B.2\n",
      "Informe um valor para o vetor A.3\n",
      "Informe um valor para o vetor B.4\n",
      "Informe um valor para o vetor A.5\n",
      "Informe um valor para o vetor B.6\n",
      "Informe um valor para o vetor A.7\n",
      "Informe um valor para o vetor B.8\n",
      "Informe um valor para o vetor A.9\n",
      "Informe um valor para o vetor B.1\n",
      "[1.0, 3.0, 5.0, 7.0, 9.0]\n",
      "[2.0, 4.0, 6.0, 8.0, 1.0]\n",
      "[2.0, 12.0, 30.0, 56.0, 9.0]\n",
      "109.0\n"
     ]
    }
   ],
   "source": [
    "#23.\n",
    "a = []\n",
    "b = []\n",
    "vetorescalar = []\n",
    "for elemento in range(5):\n",
    "    valora = float(input('Informe um valor para o vetor A.')) #Valores do vetor A\n",
    "    valorb = float(input('Informe um valor para o vetor B.')) #Valores do vetor B\n",
    "    escalar = valora * valorb #Escalar = x1*y1\n",
    "    vetorescalar.append(escalar) #Criando vetor a partir dos valores do escalar\n",
    "    a.append(valora)\n",
    "    b.append(valorb)\n",
    "print(a)\n",
    "print(b)\n",
    "print(vetorescalar)\n",
    "print(sum(vetorescalar)) #Vetor escalar de A e B\n"
   ]
  },
  {
   "cell_type": "code",
   "execution_count": 28,
   "metadata": {},
   "outputs": [
    {
     "name": "stdout",
     "output_type": "stream",
     "text": [
      "[1, 2, 3, 4, 5, 6, 7, 8, 9, 10, 11, 12, 13, 15, 16, 17, 18, 19, 20, 22, 23, 24, 25, 26, 27, 29, 30, 31, 32, 33, 34, 36, 37, 38, 39, 40, 41, 43, 44, 45, 46, 47, 48, 50, 51, 52, 53, 54, 55, 57, 58, 59, 60, 61, 62, 64, 65, 66, 67, 68, 69, 71, 72, 73, 74, 75, 76, 77, 78, 79, 80, 81, 82, 83, 85, 86, 87, 88, 89, 90, 92, 93, 94, 95, 96, 97, 99, 100, 101, 102, 103, 104, 106, 107, 108, 109, 110, 111, 113, 114, 115]\n"
     ]
    }
   ],
   "source": [
    "#25.\n",
    "elemento = 0\n",
    "vetor = []\n",
    "while len(vetor) < 101: #Enquanto o tamanho do vetor for menor que 101\n",
    "    if elemento % 7 != 0: #Se o resto da divisão por 7 for diferente de 0\n",
    "        vetor.append(elemento)\n",
    "    elif elemento % 10 == 7: #Se o resto da divisão por 10 for igual a 7\n",
    "        vetor.append(elemento)\n",
    "    elemento = elemento + 1\n",
    "print(vetor)"
   ]
  },
  {
   "cell_type": "code",
   "execution_count": 29,
   "metadata": {},
   "outputs": [
    {
     "name": "stdout",
     "output_type": "stream",
     "text": [
      "12\n",
      "14\n",
      "16\n",
      "18\n",
      "19\n",
      "13\n",
      "15\n",
      "17\n",
      "19\n",
      "23\n",
      "[12, 14, 16, 18, 19, 13, 15, 17, 19, 23]\n",
      "16.6\n",
      "98.39999999999999\n",
      "O desvio padrão do vetor v é 3.306559138036598.\n"
     ]
    }
   ],
   "source": [
    "#26.\n",
    "n = 10 #número de elementos do vetor\n",
    "somav = 0\n",
    "vetor = []\n",
    "for elemento in range(10):\n",
    "    v = int(input())\n",
    "    somav = somav + v #soma dos elementos do vetor\n",
    "    media = somav / n #média do vetor\n",
    "    vetor.append(v) #vetor v\n",
    "print(vetor)\n",
    "print(media)\n",
    "\n",
    "somatorio2 = 0\n",
    "for elemento in vetor: #para cada elemento do vetor\n",
    "    somatorio = (elemento - media)**2 #aplicação da parte final da formula DV\n",
    "    somatorio2 = somatorio2 + somatorio #aplicação da parte final da formula DV\n",
    "print(somatorio2)\n",
    "\n",
    "a = 1 / (n - 1) #Primeira parte da formula DP\n",
    "DV = (a * somatorio2)**(1/2) #calculo final DV\n",
    "print(f'O desvio padrão do vetor v é {DV}.')"
   ]
  },
  {
   "cell_type": "markdown",
   "metadata": {},
   "source": [
    "## Capítulo 07a"
   ]
  },
  {
   "cell_type": "code",
   "execution_count": 1,
   "metadata": {},
   "outputs": [
    {
     "name": "stdout",
     "output_type": "stream",
     "text": [
      "Nome: otavio\n",
      "Idade: 19\n",
      "Nome: gabriel\n",
      "Idade: 2\n",
      "Nome: miguel\n",
      "Idade: 45\n",
      "[['otavio', 19], ['gabriel', 2], ['miguel', 45]]\n"
     ]
    }
   ],
   "source": [
    "#Exemplo.\n",
    "galera = list()\n",
    "dados = list()\n",
    "for c in range(3):\n",
    "    dados.append(str(input('Nome: ')))\n",
    "    dados.append(int(input('Idade: ')))\n",
    "    galera.append(dados[:])\n",
    "    dados.clear()\n",
    "\n",
    "print(galera)"
   ]
  },
  {
   "cell_type": "code",
   "execution_count": 2,
   "metadata": {},
   "outputs": [
    {
     "name": "stdout",
     "output_type": "stream",
     "text": [
      "Digite um valor para [0, 0]: 1\n",
      "Digite um valor para [0, 1]: 2\n",
      "Digite um valor para [0, 2]: 3\n",
      "Digite um valor para [1, 0]: 4\n",
      "Digite um valor para [1, 1]: 5\n",
      "Digite um valor para [1, 2]: 6\n",
      "Digite um valor para [2, 0]: 7\n",
      "Digite um valor para [2, 1]: 8\n",
      "Digite um valor para [2, 2]: 9\n",
      "-=-=-=-=-=-=-=-=-=-=-=-=-=-=-=-=-=-=-=-=-=-=-=-=-=-=-=-=-=-=\n",
      "[  1  ][  2  ][  3  ]\n",
      "[  4  ][  5  ][  6  ]\n",
      "[  7  ][  8  ][  9  ]\n"
     ]
    }
   ],
   "source": [
    "#Crie um programa que cria uma matriz de dimensão 3x3 e preencha com valores lidos pelo teclado. No final, mostre a matriz na tela, com a formatação correta. \n",
    "matriz = [[0, 0, 0], [0, 0, 0], [0, 0, 0]]\n",
    "for linha in range(3):\n",
    "    for coluna in range(3):\n",
    "        matriz[linha][coluna] = int(input(f'Digite um valor para [{linha}, {coluna}]: '))\n",
    "print('-=' * 30) \n",
    "\n",
    "for linha in range(3):\n",
    "    for coluna in range(3):\n",
    "        print(f'[{matriz[linha][coluna]:^5}]', end='')\n",
    "    print()"
   ]
  },
  {
   "cell_type": "code",
   "execution_count": 3,
   "metadata": {},
   "outputs": [
    {
     "name": "stdout",
     "output_type": "stream",
     "text": [
      "Digite um valor para [0, 0]: 1\n",
      "Digite um valor para [0, 1]: 2\n",
      "Digite um valor para [0, 2]: 3\n",
      "Digite um valor para [1, 0]: 4\n",
      "Digite um valor para [1, 1]: 5\n",
      "Digite um valor para [1, 2]: 6\n",
      "Digite um valor para [2, 0]: 7\n",
      "Digite um valor para [2, 1]: 8\n",
      "Digite um valor para [2, 2]: 9\n",
      "-=-=-=-=-=-=-=-=-=-=-=-=-=-=-=-=-=-=-=-=-=-=-=-=-=-=-=-=-=-=\n",
      "[  1  ][  2  ][  3  ]\n",
      "[  4  ][  5  ][  6  ]\n",
      "[  7  ][  8  ][  9  ]\n",
      "-=-=-=-=-=-=-=-=-=-=-=-=-=-=-=-=-=-=-=-=-=-=-=-=-=-=-=-=-=-=\n",
      "A soma dos pares é 20.\n",
      "A soma dos valores da terceira coluna é 18.\n",
      "O maior valor da segunda linha é 6.\n"
     ]
    }
   ],
   "source": [
    "#Aprimore o desafio anterior, mostrando no final: soma de todos os valores digitados; soma dos valores da terceira coluna; maior valor da segunda linha.\n",
    "\n",
    "#Variáveis\n",
    "matriz = [[0, 0, 0], [0, 0, 0], [0, 0, 0]]\n",
    "spar = 0 #Soma dos pares\n",
    "maior = 0 #Maior valor\n",
    "scol = 0 #Soma da terceira coluna\n",
    "\n",
    "#Preenchendo a matriz\n",
    "for linha in range(3):\n",
    "    for coluna in range(3):\n",
    "        matriz[linha][coluna] = int(input(f'Digite um valor para [{linha}, {coluna}]: '))\n",
    "print('-=' * 30) \n",
    "\n",
    "#Organizando a matriz\n",
    "for linha in range(3):\n",
    "    for coluna in range(3):\n",
    "        print(f'[{matriz[linha][coluna]:^5}]', end='')\n",
    "        if matriz[linha][coluna] % 2 == 0: #Soma dos pares\n",
    "            spar = spar + matriz[linha][coluna]\n",
    "\n",
    "    print()\n",
    "print('-=' * 30)\n",
    "print(f'A soma dos pares é {spar}.')\n",
    "\n",
    "for linha in range(3): #Soma da terceira coluna\n",
    "    scol = scol + matriz[linha][2]\n",
    "print(f'A soma dos valores da terceira coluna é {scol}.')\n",
    "\n",
    "for coluna in  range(3):\n",
    "    if coluna == 0:\n",
    "        maior = matriz[1][coluna]\n",
    "    elif matriz [1][coluna] > maior:\n",
    "        maior = matriz[1][coluna]\n",
    "print(f'O maior valor da segunda linha é {maior}.')"
   ]
  },
  {
   "cell_type": "code",
   "execution_count": 4,
   "metadata": {},
   "outputs": [
    {
     "name": "stdout",
     "output_type": "stream",
     "text": [
      "Digite um valor para [0,0]:1\n",
      "Digite um valor para [0,1]:2\n",
      "Digite um valor para [0,2]:3\n",
      "Digite um valor para [0,3]:4\n",
      "Digite um valor para [1,0]:5\n",
      "Digite um valor para [1,1]:6\n",
      "Digite um valor para [1,2]:7\n",
      "Digite um valor para [1,3]:8\n",
      "Digite um valor para [2,0]:9\n",
      "Digite um valor para [2,1]:0\n",
      "Digite um valor para [2,2]:1\n",
      "Digite um valor para [2,3]:2\n",
      "Digite um valor para [3,0]:3\n",
      "Digite um valor para [3,1]:4\n",
      "Digite um valor para [3,2]:5\n",
      "Digite um valor para [3,3]:6\n",
      "[  1  ][  2  ][  3  ][  4  ]\n",
      "[  5  ][  6  ][  7  ][  8  ]\n",
      "[  9  ][  0  ][  1  ][  2  ]\n",
      "[  3  ][  4  ][  5  ][  6  ]\n",
      "Valores maiores que 10: []\n"
     ]
    }
   ],
   "source": [
    "#1.\n",
    "matriz = [[0, 0, 0, 0], [0, 0, 0, 0], [0, 0, 0, 0], [0, 0, 0, 0]]\n",
    "\n",
    "maior = [] #variável maior que 10\n",
    "for l in range(4):\n",
    "    for c in range(4):\n",
    "        matriz[l][c] = int(input(f'Digite um valor para [{l},{c}]:'))\n",
    "        if matriz[l][c] > 10: #se os valores forem maior que 10\n",
    "            maior.append(matriz[l][c])\n",
    "            maior.sort() #organizando a lista em ordem crescente\n",
    "\n",
    "#Organizando a matriz\n",
    "for l in range(4):\n",
    "    for c in range(4):\n",
    "        print(f'[{matriz[l][c]:^5}]', end='')\n",
    "    print()\n",
    "\n",
    "print(f'Valores maiores que 10: {maior}')"
   ]
  },
  {
   "cell_type": "code",
   "execution_count": 5,
   "metadata": {},
   "outputs": [
    {
     "name": "stdout",
     "output_type": "stream",
     "text": [
      "[  1  ][  0  ][  0  ][  0  ][  0  ]\n",
      "[  0  ][  1  ][  0  ][  0  ][  0  ]\n",
      "[  0  ][  0  ][  1  ][  0  ][  0  ]\n",
      "[  0  ][  0  ][  0  ][  1  ][  0  ]\n",
      "[  0  ][  0  ][  0  ][  0  ][  1  ]\n"
     ]
    }
   ],
   "source": [
    "#2.\n",
    "matriz = [[0, 0, 0, 0, 0], [0, 0, 0, 0, 0], [0, 0, 0, 0, 0], [0, 0, 0, 0, 0], [0, 0, 0, 0, 0]]\n",
    "\n",
    "for l in range(5):\n",
    "    for c in range(5):\n",
    "        if l == c:\n",
    "            matriz[l][c] = 1\n",
    "        else:\n",
    "            matriz[l][c] = 0\n",
    "\n",
    "for l in range(5):\n",
    "    for c in range(5):\n",
    "        print(f'[{matriz[l][c]:^5}]', end='')\n",
    "    print()"
   ]
  },
  {
   "cell_type": "code",
   "execution_count": 6,
   "metadata": {},
   "outputs": [
    {
     "name": "stdout",
     "output_type": "stream",
     "text": [
      "[  0  ][  0  ][  0  ][  0  ]\n",
      "[  0  ][  1  ][  2  ][  3  ]\n",
      "[  0  ][  2  ][  4  ][  6  ]\n",
      "[  0  ][  3  ][  6  ][  9  ]\n"
     ]
    }
   ],
   "source": [
    "#3.\n",
    "matriz = [[0, 0, 0, 0, 0], [0, 0, 0, 0, 0], [0, 0, 0, 0, 0], [0, 0, 0, 0, 0]]\n",
    "\n",
    "for l in range(4):\n",
    "    for c in range(4):\n",
    "        matriz[l][c] = l * c\n",
    "\n",
    "for l in range(4):\n",
    "    for c in range(4):\n",
    "        print(f'[{matriz[l][c]:^5}]', end='')\n",
    "    print()"
   ]
  },
  {
   "cell_type": "code",
   "execution_count": 7,
   "metadata": {},
   "outputs": [
    {
     "name": "stdout",
     "output_type": "stream",
     "text": [
      "Digite um valor para [0,0]:1\n",
      "Digite um valor para [0,1]:2\n",
      "Digite um valor para [0,2]:3\n",
      "Digite um valor para [0,3]:4\n",
      "Digite um valor para [1,0]:5\n",
      "Digite um valor para [1,1]:6\n",
      "Digite um valor para [1,2]:7\n",
      "Digite um valor para [1,3]:8\n",
      "Digite um valor para [2,0]:9\n",
      "Digite um valor para [2,1]:0\n",
      "Digite um valor para [2,2]:11\n",
      "Digite um valor para [2,3]:12\n",
      "Digite um valor para [3,0]:13\n",
      "Digite um valor para [3,1]:14\n",
      "Digite um valor para [3,2]:15\n",
      "Digite um valor para [3,3]:16\n",
      "[  1  ][  2  ][  3  ][  4  ]\n",
      "[  5  ][  6  ][  7  ][  8  ]\n",
      "[  9  ][  0  ][ 11  ][ 12  ]\n",
      "[ 13  ][ 14  ][ 15  ][ 16  ]\n",
      "-=-=-=-=-=-=-=-=-=-=-=-=-=-=-=-=-=-=-=-=-=-=-=-=-=-=-=-=-=-=\n",
      "O maior valor é 16 e encontra-se na posição (3, 3).\n"
     ]
    }
   ],
   "source": [
    "#4.\n",
    "matriz = [[0, 0, 0, 0, 0], [0, 0, 0, 0, 0], [0, 0, 0, 0, 0], [0, 0, 0, 0, 0]]\n",
    "\n",
    "maior = 0\n",
    "posiçao = (0,0)\n",
    "for l in range(4):\n",
    "    for c in range(4):\n",
    "        matriz[l][c] = (int(input(f'Digite um valor para [{l},{c}]:')))\n",
    "        if matriz[l][c] > maior:\n",
    "            maior = matriz[l][c]\n",
    "            posiçao = (l,c)\n",
    "\n",
    "for l in range(4):\n",
    "    for c in range(4):\n",
    "        print(f'[{matriz[l][c]:^5}]', end='')\n",
    "    print()\n",
    "\n",
    "print('-=' * 30)\n",
    "print(f'O maior valor é {maior} e encontra-se na posição {posiçao}.')"
   ]
  },
  {
   "cell_type": "code",
   "execution_count": 8,
   "metadata": {},
   "outputs": [
    {
     "name": "stdout",
     "output_type": "stream",
     "text": [
      "Informe um valor para X: 1\n",
      "Valor da posição:[0,0]2\n",
      "Valor da posição:[0,1]3\n",
      "Valor da posição:[0,2]4\n",
      "Valor da posição:[0,3]5\n",
      "Valor da posição:[0,4]6\n",
      "[2, 3, 4, 5, 6]\n",
      "Valor da posição:[1,0]7\n",
      "Valor da posição:[1,1]8\n",
      "Valor da posição:[1,2]9\n",
      "Valor da posição:[1,3]0\n",
      "Valor da posição:[1,4]1\n",
      "[7, 8, 9, 0, 1]\n",
      "Valor da posição:[2,0]2\n",
      "Valor da posição:[2,1]3\n",
      "Valor da posição:[2,2]4\n",
      "Valor da posição:[2,3]5\n",
      "Valor da posição:[2,4]6\n",
      "[2, 3, 4, 5, 6]\n",
      "Valor da posição:[3,0]7\n",
      "Valor da posição:[3,1]8\n",
      "Valor da posição:[3,2]9\n",
      "Valor da posição:[3,3]0\n",
      "Valor da posição:[3,4]1\n",
      "[7, 8, 9, 0, 1]\n",
      "Valor da posição:[4,0]2\n",
      "Valor da posição:[4,1]3\n",
      "Valor da posição:[4,2]4\n",
      "Valor da posição:[4,3]5\n",
      "Valor da posição:[4,4]6\n",
      "[2, 3, 4, 5, 6]\n",
      "[(1, 4), (3, 4)]\n"
     ]
    }
   ],
   "source": [
    "#5.Leia uma matriz 5x5. Leia também um valor X. O programa deverá fazer uma busca desse valor na matriz e, ao final, escrever a localização(linha,coluna) ou uma mensagem de 'não encontrado'.\n",
    "matriz = []\n",
    "x = int(input('Informe um valor para X: '))\n",
    "posiçao = []\n",
    "for i in range(5):\n",
    "    linha = []\n",
    "    for j in range(5):\n",
    "        valor = (int(input(f'Valor da posição:[{i},{j}]')))\n",
    "        linha.append(valor)\n",
    "        if valor == x:\n",
    "            posiçao.append((i,j))\n",
    "    print(linha)\n",
    "    matriz.append(linha)\n",
    "print(posiçao)"
   ]
  },
  {
   "cell_type": "code",
   "execution_count": 9,
   "metadata": {},
   "outputs": [
    {
     "name": "stdout",
     "output_type": "stream",
     "text": [
      "{'nome': 'Gustavo', 'sexo': 'M', 'idade': 22}\n",
      "O Gustavo tem 22 anos.\n",
      "dict_keys(['nome', 'sexo', 'idade'])\n",
      "dict_values(['Gustavo', 'M', 22])\n",
      "dict_items([('nome', 'Gustavo'), ('sexo', 'M'), ('idade', 22)])\n",
      "nome\n",
      "sexo\n",
      "idade\n",
      "Gustavo\n",
      "M\n",
      "22\n",
      "nome = Gustavo\n",
      "sexo = M\n",
      "idade = 22\n",
      "{'nome': 'Gustavo', 'idade': 22}\n",
      "{'nome': 'Leandro', 'idade': 22}\n",
      "{'nome': 'Leandro', 'idade': 22, 'peso': 98.5}\n"
     ]
    }
   ],
   "source": [
    "#Exemplo Dicionários\n",
    "\n",
    "pessoas = {'nome':'Gustavo', 'sexo':'M', 'idade':22}\n",
    "print(pessoas)\n",
    "print(f'O {pessoas[\"nome\"]} tem {pessoas[\"idade\"]} anos.')\n",
    "print(pessoas.keys())\n",
    "print(pessoas.values())\n",
    "print(pessoas.items())\n",
    "\n",
    "for k in pessoas.keys():\n",
    "    print(k)\n",
    "\n",
    "for v in pessoas.values():\n",
    "    print(v)\n",
    "\n",
    "for k,v in pessoas.items():\n",
    "    print(f'{k} = {v}')\n",
    "\n",
    "del pessoas['sexo']\n",
    "print(pessoas)\n",
    "\n",
    "pessoas['nome'] = 'Leandro'\n",
    "print(pessoas)\n",
    "\n",
    "pessoas['peso'] = 98.5\n",
    "print(pessoas)"
   ]
  },
  {
   "cell_type": "code",
   "execution_count": 10,
   "metadata": {},
   "outputs": [
    {
     "name": "stdout",
     "output_type": "stream",
     "text": [
      "{'uf': 'Rio de Janeiro', 'sigla': 'RJ'}\n",
      "{'uf': 'São Paulo', 'sigla': 'SP'}\n",
      "[{'uf': 'Rio de Janeiro', 'sigla': 'RJ'}, {'uf': 'São Paulo', 'sigla': 'SP'}]\n",
      "{'uf': 'Rio de Janeiro', 'sigla': 'RJ'}\n",
      "São Paulo\n"
     ]
    }
   ],
   "source": [
    "#Criando dicionário dentro de uma lista\n",
    "\n",
    "brasil = []\n",
    "estado1 = {'uf':'Rio de Janeiro', 'sigla':'RJ'}\n",
    "estado2 = {'uf': 'São Paulo', 'sigla':'SP'}\n",
    "brasil.append(estado1)\n",
    "brasil.append(estado2)\n",
    "\n",
    "print(estado1)\n",
    "print(estado2)\n",
    "print(brasil)\n",
    "print(brasil[0])\n",
    "print(brasil[1]['uf'])"
   ]
  },
  {
   "cell_type": "code",
   "execution_count": 11,
   "metadata": {},
   "outputs": [
    {
     "name": "stdout",
     "output_type": "stream",
     "text": [
      "Unidade Federativa:RS\n",
      "Sigla:RS\n",
      "Unidade Federativa:São Paulo\n",
      "Sigla:SP\n",
      "Unidade Federativa:Rio de Janeiro\n",
      "Sigla:RJ\n",
      "[{'uf': 'RS', 'sigla': 'RS'}, {'uf': 'São Paulo', 'sigla': 'SP'}, {'uf': 'Rio de Janeiro', 'sigla': 'RJ'}]\n",
      "RS RS \n",
      "São Paulo SP \n",
      "Rio de Janeiro RJ \n"
     ]
    }
   ],
   "source": [
    "#Exemplo\n",
    "\n",
    "estado = dict()\n",
    "brasil = list()\n",
    "\n",
    "for c in range(3):\n",
    "    estado['uf'] = str(input('Unidade Federativa:'))\n",
    "    estado['sigla'] = str(input('Sigla:'))\n",
    "    brasil.append(estado.copy())\n",
    "print(brasil)\n",
    "\n",
    "for e in brasil:\n",
    "    for v in e.values():\n",
    "        print(v, end=' ')\n",
    "    print()"
   ]
  },
  {
   "cell_type": "code",
   "execution_count": 12,
   "metadata": {},
   "outputs": [
    {
     "name": "stdout",
     "output_type": "stream",
     "text": [
      "Informe um valor para a posição 0:1\n",
      "Informe um valor para a posição 1:2\n",
      "Informe um valor para a posição 2:3\n",
      "Informe um valor para a posição 3:4\n",
      "Informe um valor para a posição 4:5\n",
      "Você digitou os valores [1, 2, 3, 4, 5].\n",
      "O número 5 foi o maior valor encontrado na(s) posição(ões): [4].\n",
      "O número 1 foi o menor valor encontrado na(s) posição(ões): [0].\n"
     ]
    }
   ],
   "source": [
    "#Faça um programa que leia 5 valores numéricos e guarde-os em uma lista. No final, mostre qual foi o maior e o menor valor digitado e as susas respectivas posições na lista\n",
    "\n",
    "listanum = []\n",
    "maior = 0\n",
    "menor = 0\n",
    "posiçaomaior = []\n",
    "posiçaomenor = []\n",
    "for c in range(5):\n",
    "    valor = (int(input(f'Informe um valor para a posição {c}:')))\n",
    "    listanum.append(valor)\n",
    "    if c == 0:\n",
    "        maior = menor = listanum[c]\n",
    "    else:\n",
    "        if listanum[c] > maior:\n",
    "            maior = listanum[c]\n",
    "        if listanum[c] < menor:\n",
    "            menor = listanum[c]\n",
    "\n",
    "for i,v in enumerate(listanum):\n",
    "    if v == maior:\n",
    "        posiçaomaior.append(i)\n",
    "for i,v in enumerate(listanum):\n",
    "    if v == menor:\n",
    "        posiçaomenor.append(i)\n",
    "\n",
    "\n",
    "print(f'Você digitou os valores {listanum}.')\n",
    "print(f'O número {maior} foi o maior valor encontrado na(s) posição(ões): {posiçaomaior}.')\n",
    "print(f'O número {menor} foi o menor valor encontrado na(s) posição(ões): {posiçaomenor}.')"
   ]
  },
  {
   "cell_type": "code",
   "execution_count": 13,
   "metadata": {},
   "outputs": [
    {
     "name": "stdout",
     "output_type": "stream",
     "text": [
      "Digite um valor:10\n",
      "Valor adicionado!\n",
      "Quer continuar? [S/N]s\n",
      "Digite um valor:-1\n",
      "Valor adicionado!\n",
      "Quer continuar? [S/N]S\n",
      "Digite um valor:0\n",
      "Valor adicionado!\n",
      "Quer continuar? [S/N]n\n",
      "Valores digitados: [-1, 0, 10]\n"
     ]
    }
   ],
   "source": [
    "#Crie um programa onde o usuário possa digitar vários valores numéricos e cadastre-se em uma lista. Caso o número já exista lá dentro, ele não será adicionado. No final, serão exibidos todos os valores únicos digitados, em ordem crescente.\n",
    "\n",
    "numeros = []\n",
    "while True:\n",
    "    n = int(input('Digite um valor:'))\n",
    "    if n not in numeros:\n",
    "        numeros.append(n)\n",
    "        print('Valor adicionado!')\n",
    "    else:\n",
    "        print('valor duplicado! Não será adicionado.')\n",
    "    r = str(input('Quer continuar? [S/N]'))\n",
    "    if r in 'Nn':\n",
    "        break\n",
    "numeros.sort()\n",
    "print(f'Valores digitados: {numeros}')"
   ]
  },
  {
   "cell_type": "code",
   "execution_count": 14,
   "metadata": {},
   "outputs": [
    {
     "name": "stdout",
     "output_type": "stream",
     "text": [
      "Digite um valor:1\n",
      "Digite um valor:2\n",
      "Digite um valor:3\n",
      "Digite um valor:4\n",
      "Digite um valor:5\n",
      "Valores digitados em ordem crescente: [1, 2, 3, 4, 5]\n"
     ]
    }
   ],
   "source": [
    "#Crie um programa onde o usuário possa digitar cinco valores numéricos e cadastre-se em uma lista, já na posição correta de inserção(sem usar o sort()). No final, mostre a lista ordenada na tela.\n",
    "\n",
    "lista = []\n",
    "for c in range(5):\n",
    "    n = int(input('Digite um valor:'))\n",
    "    if c == 0:\n",
    "        lista.append(n)\n",
    "    elif n > lista[-1]: #Se o n for maior que o último elemento da lista\n",
    "        lista.append(n)\n",
    "    else:\n",
    "        pos = 0\n",
    "        while pos < len(lista):\n",
    "            if n <= lista[pos]:\n",
    "                lista.insert(pos, n)\n",
    "                break\n",
    "            pos = pos + 1\n",
    "print(f'Valores digitados em ordem crescente: {lista}')"
   ]
  },
  {
   "cell_type": "code",
   "execution_count": 15,
   "metadata": {},
   "outputs": [
    {
     "name": "stdout",
     "output_type": "stream",
     "text": [
      "Digite um valor:12\n",
      "Quer continuar? [S/N]s\n",
      "Digite um valor:11\n",
      "Quer continuar? [S/N]n\n",
      "Você digitou 2 elementos.\n",
      "Valores em ordem decrescente: [12, 11].\n",
      "O valor 5 não faz parte da lista.\n"
     ]
    }
   ],
   "source": [
    "# Crie um programa que vai ler vários números e colocar em uma lista. Depois disso, mostre: (a) Quantos números foram digitados (b) A lista de valores, ordenada de forma decrescente (c) Se o valor 5 foi digitado e esta ou não na lista\n",
    "\n",
    "valores = []\n",
    "while True:\n",
    "    valores.append(int(input('Digite um valor:')))\n",
    "    resp = str(input('Quer continuar? [S/N]'))\n",
    "    if resp in 'Nn':\n",
    "        break\n",
    "print(f'Você digitou {len(valores)} elementos.')\n",
    "valores.sort(reverse=True)#Ordem decrescente\n",
    "print(f'Valores em ordem decrescente: {valores}.')\n",
    "\n",
    "if 5 in valores:\n",
    "    print('O valor 5 faz parte da lista.')\n",
    "else:\n",
    "    print('O valor 5 não faz parte da lista.')"
   ]
  },
  {
   "cell_type": "code",
   "execution_count": 7,
   "metadata": {},
   "outputs": [
    {
     "name": "stdout",
     "output_type": "stream",
     "text": [
      "Informe um valor:19\n",
      "Quer continuar? [S/N]s\n",
      "Informe um valor:11\n",
      "Quer continuar? [S/N]s\n",
      "Informe um valor:16\n",
      "Quer continuar? [S/N]s\n",
      "Informe um valor:10\n",
      "Quer continuar? [S/N]s\n",
      "Informe um valor:0\n",
      "Quer continuar? [S/N]n\n",
      "[19, 11, 16, 10, 0]\n",
      "Lista com valores pares: [16, 10, 0]\n",
      "Lista com valor ímpares: [19, 11]\n"
     ]
    }
   ],
   "source": [
    "#Crie um programa que vai ler vários números e colocar em uma lista. Depois disso, crie duas listas extras que vão conter apenas os valores pares e os valores ímpares digitados, respectivamente. Ao final, mostre o conteúdo das três listas geradas.\n",
    "\n",
    "lista = []\n",
    "while True:\n",
    "    lista.append(int(input('Informe um valor:')))\n",
    "    resp = str(input('Quer continuar? [S/N]'))\n",
    "    if resp in 'Nn':\n",
    "        break\n",
    "\n",
    "listapar = []\n",
    "listaimpar = []\n",
    "for valor in lista:\n",
    "    if valor % 2 == 0:\n",
    "        listapar.append(valor)\n",
    "    else:\n",
    "        listaimpar.append(valor)\n",
    "\n",
    "print(lista)\n",
    "print(f'Lista com valores pares: {listapar}')\n",
    "print(f'Lista com valor ímpares: {listaimpar}')"
   ]
  },
  {
   "cell_type": "code",
   "execution_count": 1,
   "metadata": {},
   "outputs": [
    {
     "name": "stdout",
     "output_type": "stream",
     "text": [
      "Digite a expressão: (oi)\n",
      "Sua expressão esta válida!\n"
     ]
    }
   ],
   "source": [
    "#Crie um programa onde o usuário digite uma expressão qualquer que use parênteses. Seu aplicativo deverá analisar se a expressão passada está com os parênteses abertos e fechados na ordem correta.\n",
    "\n",
    "exp = str(input('Digite a expressão: '))\n",
    "pilha = []\n",
    "for simbolo in exp:\n",
    "    if simbolo == '(':\n",
    "        pilha.append('(')\n",
    "    elif simbolo == ')':\n",
    "        if len(pilha) > 0:\n",
    "            pilha.pop()\n",
    "        else:\n",
    "            pilha.append(')')\n",
    "        break\n",
    "\n",
    "if len(pilha) == 0:\n",
    "    print('Sua expressão esta válida!')\n",
    "else:\n",
    "    print('Sua expressão esta errada!')"
   ]
  },
  {
   "cell_type": "code",
   "execution_count": 1,
   "metadata": {},
   "outputs": [
    {
     "name": "stdout",
     "output_type": "stream",
     "text": [
      "Informe o nome da pessoa:otavio\n",
      "Informe o peso de otavio: 98\n",
      "Quer continuar? [S/N]s\n",
      "Informe o nome da pessoa:miguel\n",
      "Informe o peso de miguel: 80\n",
      "Quer continuar? [S/N]n\n",
      "2\n",
      "[['otavio', 98.0], ['miguel', 80.0]]\n",
      "Maior peso: 98.0kg\n",
      "otavio\n",
      "Menor peso: 80.0kg\n",
      "miguel\n"
     ]
    }
   ],
   "source": [
    "#Faça um programa que leia nome e peso de várias pessoas, guardando tudo em uma lista. No final mostre: (a)Quantas pessoas foram cadastradas. (b) Uma listagem com as pessoas mais pesadas. (c) Uma listagem com as pessoas mais leves.\n",
    "\n",
    "lista = []\n",
    "principal = []\n",
    "pessoas = 0\n",
    "maior = 0\n",
    "menor = 0\n",
    "while True:\n",
    "    nome = str(input('Informe o nome da pessoa:'))\n",
    "    peso = float(input( f'Informe o peso de {nome}: '))\n",
    "    lista.append(nome)\n",
    "    lista.append(peso)\n",
    "    if len(principal) == 0:\n",
    "        maior = menor = lista[1]\n",
    "    else:\n",
    "        if lista[1] > maior:\n",
    "            maior = lista[1]\n",
    "        if lista[1] < menor:\n",
    "            menor = lista[1]\n",
    "    pessoas = pessoas + 1\n",
    "    principal.append(lista[:])\n",
    "    lista.clear()\n",
    "    resp = str(input('Quer continuar? [S/N]'))\n",
    "    if resp in 'Nn':\n",
    "        break\n",
    "\n",
    "print(pessoas)\n",
    "print(principal)\n",
    "print(f'Maior peso: {maior}kg')\n",
    "for p in principal:\n",
    "    if p[1] == maior:\n",
    "        print(f'{p[0]}')\n",
    "print(f'Menor peso: {menor}kg')\n",
    "for p in principal:\n",
    "    if p[1] == menor:\n",
    "        print(f'{p[0]}')"
   ]
  },
  {
   "cell_type": "code",
   "execution_count": 2,
   "metadata": {},
   "outputs": [
    {
     "name": "stdout",
     "output_type": "stream",
     "text": [
      "Informe o nome do aluno:otavio\n",
      "Informe a média do aluno: 10\n",
      "{'nome': 'otavio', 'média': 10.0, 'situação': 'Aprovado'}\n"
     ]
    }
   ],
   "source": [
    "#Faça um programa que leia nome e média de um aluno, guardando também a situação em um dicionário. No final, mostre o conteúdo da estrutura na tela.\n",
    "\n",
    "aluno = {}\n",
    "aluno['nome'] = str(input('Informe o nome do aluno:'))\n",
    "aluno['média'] = float(input('Informe a média do aluno: '))\n",
    "if aluno['média'] >= 7:\n",
    "    aluno['situação'] = 'Aprovado'\n",
    "else:\n",
    "    aluno['situação'] = 'Reprovado'\n",
    "\n",
    "print(aluno)"
   ]
  },
  {
   "cell_type": "code",
   "execution_count": 3,
   "metadata": {},
   "outputs": [
    {
     "name": "stdout",
     "output_type": "stream",
     "text": [
      "Valores sorteados:\n",
      "Jogador1 tirou 6 no dado.\n",
      "Jogador2 tirou 5 no dado.\n",
      "Jogador3 tirou 3 no dado.\n",
      "Jogador4 tirou 6 no dado.\n",
      "[('Jogador1', 6), ('Jogador4', 6), ('Jogador2', 5), ('Jogador3', 3)]\n"
     ]
    }
   ],
   "source": [
    "#Crie um programa onde 4 jogadores joguem um dado e tenham resultados aleatórios. Guarde esses resultados em um dicionário. No final, coloque esse dicionário em ordem, sabendo que o vencedor tirou o maior número no dado.\n",
    "from random import randint #método para gerar números aleatórios\n",
    "from operator import itemgetter\n",
    "jogo = {'Jogador1':randint(1, 6),\n",
    "        'Jogador2':randint(1, 6),\n",
    "        'Jogador3':randint(1, 6),\n",
    "        'Jogador4':randint(1, 6)}\n",
    "ranking = []\n",
    "print('Valores sorteados:')\n",
    "for k,v in jogo.items():\n",
    "    print(f'{k} tirou {v} no dado.')\n",
    "ranking = sorted(jogo.items(), key=itemgetter(1), reverse=True)\n",
    "print(ranking)\n",
    "\n",
    "#reverse=True ordena na ordem decrescente"
   ]
  },
  {
   "cell_type": "code",
   "execution_count": 4,
   "metadata": {},
   "outputs": [
    {
     "name": "stdout",
     "output_type": "stream",
     "text": [
      "Nome:otavio\n",
      "Ano de nascimento: 1990\n",
      "Carteira de Trabalho (0 não tem): 0\n",
      "{'nome': 'otavio', 'idade': 30, 'ctps': 0}\n"
     ]
    }
   ],
   "source": [
    "#Crie um programa que leia, nome, ano de nascimento e carteira de trabalho e cadastre-os (com idade) em um dicionário. Se, por acaso, a CTPS for diferente de zero, o dicionário receberá também o ano de contratação e o salário. Calcule e acrescente, além da idade, com quantos anos a pessoa vai se aposentar.\n",
    "\n",
    "from datetime import datetime #Importando o ano do computador\n",
    "\n",
    "dados = {}\n",
    "dados['nome'] = str(input('Nome:'))\n",
    "nasc = int(input('Ano de nascimento: '))\n",
    "dados['idade'] = datetime.now().year - nasc #ano atual - ano de nascimento\n",
    "dados['ctps'] = int(input('Carteira de Trabalho (0 não tem): '))\n",
    "\n",
    "if dados['ctps'] != 0:\n",
    "    dados['contratação'] = int(input('Ano de Contratação: '))\n",
    "    dados['salário'] = float(input('Salário: R$'))\n",
    "    dados['aposentadoria'] = dados['idade'] + ((dados['contratação'] + 35) - datetime.now().year)\n",
    "print(dados)"
   ]
  },
  {
   "cell_type": "code",
   "execution_count": 1,
   "metadata": {},
   "outputs": [
    {
     "name": "stdout",
     "output_type": "stream",
     "text": [
      "Nome do jogador:otavio\n",
      "Quantas partidas otavio jogou: 5\n",
      "Quantos gols na partida 1:2\n",
      "Quantos gols na partida 2:0\n",
      "Quantos gols na partida 3:1\n",
      "Quantos gols na partida 4:3\n",
      "Quantos gols na partida 5:0\n",
      "{'nome': 'otavio', 'gols': [2, 0, 1, 3, 0], 'total': 6}\n"
     ]
    }
   ],
   "source": [
    "#Crie um programa que gerencie o aproveitamento de um jogador de futebol. O programa vai ler o nome do jogador e quantas partidas ele jogou. Depois vai ler a quantidade de gols feitos em cada partida. No final, tudo isso será guardado em um dicionário, incluindo o total de gols feitos durante o campeonato.\n",
    "\n",
    "jogador = {}\n",
    "jogador['nome'] =str(input('Nome do jogador:'))\n",
    "tot = int(input(f'Quantas partidas {jogador[\"nome\"]} jogou: '))\n",
    "\n",
    "partidas = []\n",
    "for c in range(tot):\n",
    "    partidas.append(int(input(f'Quantos gols na partida {c+1}:')))\n",
    "\n",
    "jogador['gols'] = partidas[:]\n",
    "jogador['total'] = sum(partidas)\n",
    "print(jogador)"
   ]
  },
  {
   "cell_type": "code",
   "execution_count": 2,
   "metadata": {},
   "outputs": [
    {
     "name": "stdout",
     "output_type": "stream",
     "text": [
      "Nome:otavio\n",
      "Sexo: [M/F]m\n",
      "Idade:30\n",
      "Quer continuar? [S/N]s\n",
      "Nome:miguel\n",
      "Sexo: [M/F]m\n",
      "Idade:45\n",
      "Quer continuar? [S/N]s\n",
      "Nome:ana\n",
      "Sexo: [M/F]f\n",
      "Idade:10\n",
      "Quer continuar? [S/N]n\n",
      "[{'nome': 'otavio', 'sexo': 'M', 'idade': 30}, {'nome': 'miguel', 'sexo': 'M', 'idade': 45}, {'nome': 'ana', 'sexo': 'F', 'idade': 10}]\n",
      "Ao todo temos 3 pessoas cadastradas.\n",
      "A média de idade é de 28.333333333333332 anos.\n",
      "As mulheres cadastradas foramana\n",
      "Lista das pessoas que estão acima da média: \n",
      "     \n",
      "nome = otaviosexo = Midade = 30\n",
      "     \n",
      "nome = miguelsexo = Midade = 45\n"
     ]
    }
   ],
   "source": [
    "#Crie um programa que leia nome, sexo e idade de várias pessoas, guardando os dados de cada pessoa em um dicionário e todos os dicionários em uma lista. No final, mostre: (a)Quantas pessoas cadastradas. (b)A média de idade. (c)Uma lista com mulheres. (d)Uma lista com idade acima da média. \n",
    "galera = []\n",
    "pessoa = {}\n",
    "soma = media = 0\n",
    "while True:\n",
    "    pessoa.clear\n",
    "    pessoa['nome'] = str(input('Nome:'))\n",
    "    while True:\n",
    "        pessoa['sexo'] = str(input('Sexo: [M/F]')).upper()[0]\n",
    "        if pessoa['sexo'] in 'MmFf':\n",
    "            break\n",
    "        print('ERRO! Por favor, digite apenas M ou F.')\n",
    "    pessoa['idade'] = int(input('Idade:'))\n",
    "    soma = soma + pessoa['idade'] \n",
    "    galera.append(pessoa.copy())\n",
    "    while True:\n",
    "        resp = str(input('Quer continuar? [S/N]')).upper()[0]\n",
    "        if resp in 'SN':\n",
    "            break\n",
    "        print('ERRO! Responda apenas S ou N.')\n",
    "    if resp == 'N':\n",
    "        break\n",
    "print(galera)\n",
    "print(f'Ao todo temos {len(galera)} pessoas cadastradas.')\n",
    "media = soma / len(galera)\n",
    "print(f'A média de idade é de {media} anos.')\n",
    "print(f'As mulheres cadastradas foram', end='')\n",
    "for p in galera:\n",
    "    if p['sexo'] == 'F':\n",
    "        print(f'{p[\"nome\"]}', end='')\n",
    "print()\n",
    "print('Lista das pessoas que estão acima da média: ')\n",
    "for p in galera:\n",
    "    if p['idade'] >= media:\n",
    "        print('     ')\n",
    "        for k,v in p.items():\n",
    "            print(f'{k} = {v}', end='')\n",
    "        print()"
   ]
  },
  {
   "cell_type": "code",
   "execution_count": 3,
   "metadata": {},
   "outputs": [
    {
     "name": "stdout",
     "output_type": "stream",
     "text": [
      "Matriz 1 posição [1,1:]1\n",
      "Matriz 2 posição [1,1:]2\n",
      "Matriz 1 posição [1,2:]3\n",
      "Matriz 2 posição [1,2:]4\n",
      "Matriz 1 posição [1,3:]5\n",
      "Matriz 2 posição [1,3:]6\n",
      "Matriz 1 posição [1,4:]7\n",
      "Matriz 2 posição [1,4:]8\n",
      "Matriz 1 posição [2,1:]9\n",
      "Matriz 2 posição [2,1:]1\n",
      "Matriz 1 posição [2,2:]2\n",
      "Matriz 2 posição [2,2:]3\n",
      "Matriz 1 posição [2,3:]4\n",
      "Matriz 2 posição [2,3:]5\n",
      "Matriz 1 posição [2,4:]6\n",
      "Matriz 2 posição [2,4:]7\n",
      "Matriz 1 posição [3,1:]8\n",
      "Matriz 2 posição [3,1:]9\n",
      "Matriz 1 posição [3,2:]1\n",
      "Matriz 2 posição [3,2:]2\n",
      "Matriz 1 posição [3,3:]3\n",
      "Matriz 2 posição [3,3:]4\n",
      "Matriz 1 posição [3,4:]5\n",
      "Matriz 2 posição [3,4:]6\n",
      "Matriz 1 posição [4,1:]7\n",
      "Matriz 2 posição [4,1:]8\n",
      "Matriz 1 posição [4,2:]9\n",
      "Matriz 2 posição [4,2:]1\n",
      "Matriz 1 posição [4,3:]2\n",
      "Matriz 2 posição [4,3:]3\n",
      "Matriz 1 posição [4,4:]4\n",
      "Matriz 2 posição [4,4:]5\n",
      "[[1, 3, 5, 7], [9, 2, 4, 6], [8, 1, 3, 5], [7, 9, 2, 4]]\n",
      "[[2, 4, 6, 8], [1, 3, 5, 7], [9, 2, 4, 6], [8, 1, 3, 5]]\n",
      "[[2, 4, 6, 8], [9, 3, 5, 7], [9, 2, 4, 6], [8, 9, 3, 5]]\n"
     ]
    }
   ],
   "source": [
    "#6. \n",
    "\n",
    "matriz1 = []\n",
    "matriz2 = []\n",
    "matriz3 = []\n",
    "\n",
    "for i in range(4):\n",
    "    linha1 = []\n",
    "    linha2 = []\n",
    "    linha3 = []\n",
    "    for j in range(4):\n",
    "        valor1 = (int(input(f'Matriz 1 posição [{i+1},{j+1}:]')))\n",
    "        linha1.append(valor1)\n",
    "        valor2 = (int(input(f'Matriz 2 posição [{i+1},{j+1}:]')))\n",
    "        linha2.append(valor2)\n",
    "        if valor1 == valor2:\n",
    "            linha3.append(valor1)\n",
    "        elif valor1 > valor2:\n",
    "            linha3.append(valor1)\n",
    "        elif valor1 < valor2:\n",
    "            linha3.append(valor2)\n",
    "    matriz1.append(linha1[:])\n",
    "    matriz2.append(linha2[:])\n",
    "    matriz3.append(linha3[:])\n",
    "print(matriz1)\n",
    "print(matriz2)\n",
    "print(matriz3)"
   ]
  },
  {
   "cell_type": "code",
   "execution_count": 4,
   "metadata": {},
   "outputs": [
    {
     "name": "stdout",
     "output_type": "stream",
     "text": [
      "[-1, 5, 12, 19, 26, 33, 40, 47, 54, 61]\n",
      "[5, 2, 14, 21, 28, 35, 42, 49, 56, 63]\n",
      "[33, 28, 11, 23, 30, 37, 44, 51, 58, 65]\n",
      "[109, 104, 89, 26, 32, 39, 46, 53, 60, 67]\n",
      "[257, 252, 237, 212, 47, 41, 48, 55, 62, 69]\n",
      "[501, 496, 481, 456, 421, 74, 50, 57, 64, 71]\n",
      "[865, 860, 845, 820, 785, 740, 107, 59, 66, 73]\n",
      "[1373, 1368, 1353, 1328, 1293, 1248, 1193, 146, 68, 75]\n",
      "[2049, 2044, 2029, 2004, 1969, 1924, 1869, 1804, 191, 77]\n",
      "[2917, 2912, 2897, 2872, 2837, 2792, 2737, 2672, 2597, 242]\n"
     ]
    }
   ],
   "source": [
    "#7. \n",
    "\n",
    "matriz = []\n",
    "for i in range(10):\n",
    "    linha = []\n",
    "    for j in range(10):\n",
    "        if i < j:\n",
    "            valor = (2*i) + (7*j) - 2\n",
    "            linha.append(valor)\n",
    "        elif i == j:\n",
    "            valor = (3*(i**2)) - 1\n",
    "            linha.append(valor)\n",
    "        elif i > j:\n",
    "            valor = (4*(i**3)) - (5*(j**2)) + 1\n",
    "            linha.append(valor)\n",
    "    print(linha)\n",
    "    matriz.append(linha[:])"
   ]
  },
  {
   "cell_type": "code",
   "execution_count": 5,
   "metadata": {},
   "outputs": [
    {
     "name": "stdout",
     "output_type": "stream",
     "text": [
      "Informe um valor para a posição [1,1]0\n",
      "Informe um valor para a posição [1,2]1\n",
      "Informe um valor para a posição [1,3]2\n",
      "Informe um valor para a posição [2,1]3\n",
      "Informe um valor para a posição [2,2]4\n",
      "Informe um valor para a posição [2,3]5\n",
      "Informe um valor para a posição [3,1]6\n",
      "Informe um valor para a posição [3,2]7\n",
      "Informe um valor para a posição [3,3]8\n",
      "[[0, 1, 2], [3, 4, 5], [6, 7, 8]]\n",
      "A soma dos valores acima da diagonal principal é 8.\n"
     ]
    }
   ],
   "source": [
    "#8. \n",
    "\n",
    "matriz = []\n",
    "soma = []\n",
    "for i in range(3):\n",
    "    linha = []\n",
    "    for j in range(3):\n",
    "        valor = int(input(f'Informe um valor para a posição [{i+1},{j+1}]'))\n",
    "        linha.append(valor)\n",
    "        if j > i:\n",
    "            soma.append(valor)\n",
    "    matriz.append(linha[:])    \n",
    "print(matriz)\n",
    "s = sum(soma)\n",
    "print(f'A soma dos valores acima da diagonal principal é {s}.')"
   ]
  },
  {
   "cell_type": "code",
   "execution_count": 6,
   "metadata": {},
   "outputs": [
    {
     "name": "stdout",
     "output_type": "stream",
     "text": [
      "Informe um valor para a posição [1.1]1\n",
      "Informe um valor para a posição [1.2]2\n",
      "Informe um valor para a posição [1.3]3\n",
      "Informe um valor para a posição [2.1]4\n",
      "Informe um valor para a posição [2.2]5\n",
      "Informe um valor para a posição [2.3]0\n",
      "Informe um valor para a posição [3.1]-10\n",
      "Informe um valor para a posição [3.2]-9\n",
      "Informe um valor para a posição [3.3]1\n",
      "[[1, 2, 3], [4, 5, 0], [-10, -9, 1]]\n",
      "A soma dos valores abaixo da diagonal principal é -15.\n"
     ]
    }
   ],
   "source": [
    "#9.\n",
    "\n",
    "matriz = []\n",
    "soma = []\n",
    "for i in range(3):\n",
    "    linha = []\n",
    "    for j in range(3):\n",
    "        valor = int(input(f'Informe um valor para a posição [{i+1}.{j+1}]'))\n",
    "        linha.append(valor)\n",
    "        if i > j:\n",
    "            soma.append(valor)\n",
    "    matriz.append(linha[:])\n",
    "print(matriz)\n",
    "s = sum(soma)\n",
    "print(f'A soma dos valores abaixo da diagonal principal é {s}.')"
   ]
  },
  {
   "cell_type": "code",
   "execution_count": 7,
   "metadata": {},
   "outputs": [
    {
     "name": "stdout",
     "output_type": "stream",
     "text": [
      "Informe um valor para a posição [1,1]0\n",
      "Informe um valor para a posição [1,2]2\n",
      "Informe um valor para a posição [1,3]9\n",
      "Informe um valor para a posição [2,1]1\n",
      "Informe um valor para a posição [2,2]8\n",
      "Informe um valor para a posição [2,3]3\n",
      "Informe um valor para a posição [3,1]7\n",
      "Informe um valor para a posição [3,2]4\n",
      "Informe um valor para a posição [3,3]6\n",
      "[[0, 2, 9], [1, 8, 3], [7, 4, 6]]\n",
      "A soma dos valores da diagonal principal é 14.\n"
     ]
    }
   ],
   "source": [
    "#10.\n",
    "\n",
    "matriz = []\n",
    "soma = []\n",
    "for i in range(3):\n",
    "    linha = []\n",
    "    for j in range(3):\n",
    "        valor = int(input(f'Informe um valor para a posição [{i+1},{j+1}]'))\n",
    "        linha.append(valor)\n",
    "        if i == j:\n",
    "            soma.append(valor)\n",
    "    matriz.append(linha[:])\n",
    "print(matriz)\n",
    "s = sum(soma)\n",
    "print(f'A soma dos valores da diagonal principal é {s}.')"
   ]
  },
  {
   "cell_type": "code",
   "execution_count": 10,
   "metadata": {},
   "outputs": [
    {
     "name": "stdout",
     "output_type": "stream",
     "text": [
      "Informe um valor para a posição [1,1]:1\n",
      "Informe um valor para a posição [1,2]:2\n",
      "Informe um valor para a posição [1,3]:3\n",
      "Informe um valor para a posição [1,4]:4\n",
      "Informe um valor para a posição [2,1]:5\n",
      "Informe um valor para a posição [2,2]:6\n",
      "Informe um valor para a posição [2,3]:7\n",
      "Informe um valor para a posição [2,4]:8\n",
      "Informe um valor para a posição [3,1]:9\n",
      "Informe um valor para a posição [3,2]:1\n",
      "Informe um valor para a posição [3,3]:2\n",
      "Informe um valor para a posição [3,4]:3\n",
      "Informe um valor para a posição [4,1]:4\n",
      "Informe um valor para a posição [4,2]:5\n",
      "Informe um valor para a posição [4,3]:6\n",
      "Informe um valor para a posição [4,4]:7\n",
      "[[1, 2, 3, 4], [5, 6, 7, 8], [9, 1, 2, 3], [4, 5, 6, 7]]\n"
     ]
    }
   ],
   "source": [
    "#13.\n",
    "\n",
    "matriz = []\n",
    "for i in range(4):\n",
    "    linha = []\n",
    "    for j in range(4):\n",
    "        valor = int(input(f'Informe um valor para a posição [{i+1},{j+1}]:'))\n",
    "        linha.append(valor)\n",
    "    matriz.append(linha[:])\n",
    "print(matriz)"
   ]
  },
  {
   "cell_type": "code",
   "execution_count": 11,
   "metadata": {},
   "outputs": [
    {
     "name": "stdout",
     "output_type": "stream",
     "text": [
      "[[70, 45, 12, 43, 91], [13, 55, 78, 47, 58], [7, 4, 85, 25, 86], [38, 2, 97, 77, 54], [31, 92, 50, 1, 81]]\n"
     ]
    }
   ],
   "source": [
    "#14. \n",
    "\n",
    "from random import randint\n",
    "\n",
    "bingo = []\n",
    "for i in range(5):\n",
    "    linha = []\n",
    "    for j in range(5):\n",
    "        valor = int(randint(1,99))\n",
    "        linha.append(valor)\n",
    "    bingo.append(linha[:])\n",
    "print(bingo)"
   ]
  },
  {
   "cell_type": "code",
   "execution_count": 1,
   "metadata": {},
   "outputs": [
    {
     "name": "stdout",
     "output_type": "stream",
     "text": [
      "Informe um valor para a posição [1,1]:1\n",
      "Informe um valor para a posição [1,2]:2\n",
      "Informe um valor para a posição [1,3]:3\n",
      "Informe um valor para a posição [2,1]:4\n",
      "Informe um valor para a posição [2,2]:5\n",
      "Informe um valor para a posição [2,3]:6\n",
      "Informe um valor para a posição [3,1]:7\n",
      "Informe um valor para a posição [3,2]:8\n",
      "Informe um valor para a posição [3,3]:9\n",
      "[12, 15, 18]\n",
      "[[1, 2, 3], [4, 5, 6], [7, 8, 9]]\n"
     ]
    }
   ],
   "source": [
    "#18.\n",
    "\n",
    "matriz = []\n",
    "vetor = []\n",
    "cont1 = 0\n",
    "cont2 = 0\n",
    "cont3 = 0\n",
    "for i in range(3):\n",
    "    linha = []\n",
    "    for j in range(3):\n",
    "        valor = int(input(f'Informe um valor para a posição [{i+1},{j+1}]:'))\n",
    "        linha.append(valor)\n",
    "        if j == 0:\n",
    "            cont1 = cont1 + valor\n",
    "        elif j == 1:\n",
    "            cont2 = cont2 + valor\n",
    "        elif j == 2:\n",
    "            cont3 = cont3 + valor\n",
    "    matriz.append(linha)\n",
    "vetor.append(cont1)\n",
    "vetor.append(cont2)\n",
    "vetor.append(cont3)\n",
    "print(vetor)\n",
    "print(matriz)"
   ]
  },
  {
   "cell_type": "code",
   "execution_count": 3,
   "metadata": {},
   "outputs": [
    {
     "name": "stdout",
     "output_type": "stream",
     "text": [
      "Número de matrícula do aluno 1:1\n",
      "Média das provas do aluno 1:3\n",
      "Média dos trabalhos do aluno 1:2\n",
      "Nota final do aluno 1: 5\n",
      "=-=-=-=-=-=-=-=-=-=-=-=-=-=-=-=-=-=-=-=-=-=-=-=-\n",
      "Número de matrícula do aluno 2:2\n",
      "Média das provas do aluno 2:18\n",
      "Média dos trabalhos do aluno 2:3\n",
      "Nota final do aluno 2: 21\n",
      "=-=-=-=-=-=-=-=-=-=-=-=-=-=-=-=-=-=-=-=-=-=-=-=-\n",
      "Número de matrícula do aluno 3:3\n",
      "Média das provas do aluno 3:4\n",
      "Média dos trabalhos do aluno 3:6\n",
      "Nota final do aluno 3: 10\n",
      "=-=-=-=-=-=-=-=-=-=-=-=-=-=-=-=-=-=-=-=-=-=-=-=-\n",
      "Número de matrícula do aluno 4:9\n",
      "Média das provas do aluno 4:5\n",
      "Média dos trabalhos do aluno 4:6\n",
      "Nota final do aluno 4: 11\n",
      "=-=-=-=-=-=-=-=-=-=-=-=-=-=-=-=-=-=-=-=-=-=-=-=-\n",
      "Número de matrícula do aluno 5:7\n",
      "Média das provas do aluno 5:3\n",
      "Média dos trabalhos do aluno 5:8\n",
      "Nota final do aluno 5: 11\n",
      "=-=-=-=-=-=-=-=-=-=-=-=-=-=-=-=-=-=-=-=-=-=-=-=-\n",
      "A maior nota é 21.\n",
      "Média aritmética das notas finais: 11.6.\n",
      "[[1, 3, 2, 5], [2, 18, 3, 21], [3, 4, 6, 10], [9, 5, 6, 11], [7, 3, 8, 11]]\n"
     ]
    }
   ],
   "source": [
    "#19. FALTA LETRA C\n",
    "\n",
    "matriz = []\n",
    "maiornota = 0\n",
    "media = 0\n",
    "somanotas = 0\n",
    "for i in range(1, 6):\n",
    "    linha = []\n",
    "    for j in range(1, 5):\n",
    "        if j == 1:\n",
    "            matricula = int(input(f'Número de matrícula do aluno {i}:'))\n",
    "            linha.append(matricula)\n",
    "        if j == 2:\n",
    "            prova = int(input(f'Média das provas do aluno {i}:'))\n",
    "            linha.append(prova)\n",
    "        if j == 3:\n",
    "            trabalho = int(input(f'Média dos trabalhos do aluno {i}:'))\n",
    "            linha.append(trabalho)\n",
    "        if j == 4:\n",
    "            notafinal = prova + trabalho\n",
    "            print(f'Nota final do aluno {i}: {notafinal}')\n",
    "            somanotas = somanotas + notafinal\n",
    "            if notafinal > maiornota:\n",
    "                maiornota = notafinal \n",
    "            linha.append(notafinal)\n",
    "    print('=-=-=-=-=-=-=-=-=-=-=-=-=-=-=-=-=-=-=-=-=-=-=-=-')\n",
    "    matriz.append(linha[:])\n",
    "print(f'A maior nota é {maiornota}.')\n",
    "media = somanotas / 5\n",
    "print(f'Média aritmética das notas finais: {media}.')\n",
    "print(matriz)"
   ]
  },
  {
   "cell_type": "code",
   "execution_count": 4,
   "metadata": {},
   "outputs": [
    {
     "name": "stdout",
     "output_type": "stream",
     "text": [
      "Valor para a posição [1,1]:1\n",
      "Valor para a posição [1,2]:2\n",
      "Valor para a posição [1,3]:3\n",
      "Valor para a posição [1,4]:4\n",
      "Valor para a posição [1,5]:5\n",
      "Valor para a posição [1,6]:6\n",
      "Valor para a posição [2,1]:7\n",
      "Valor para a posição [2,2]:8\n",
      "Valor para a posição [2,3]:9\n",
      "Valor para a posição [2,4]:0\n",
      "Valor para a posição [2,5]:1\n",
      "Valor para a posição [2,6]:2\n",
      "Valor para a posição [3,1]:3\n",
      "Valor para a posição [3,2]:4\n",
      "Valor para a posição [3,3]:5\n",
      "Valor para a posição [3,4]:6\n",
      "Valor para a posição [3,5]:7\n",
      "Valor para a posição [3,6]:8\n",
      "Soma dos elementos das colunas ímpares: 41\n",
      "Média dos elementos da segunda e quarta coluna: 4.0\n",
      "[[1, 2, 3, 4, 5, 6], [7, 8, 9, 0, 1, 2], [3, 4, 5, 6, 7, 8]]\n"
     ]
    }
   ],
   "source": [
    "#20.\n",
    "\n",
    "matriz = []\n",
    "soma1 = 0\n",
    "soma2 = 0\n",
    "soma3 = 0\n",
    "soma4 = 0\n",
    "for i in range(1, 4):\n",
    "    linha = []\n",
    "    for j in range(1, 7):\n",
    "        valor = int(input(f'Valor para a posição [{i},{j}]:'))\n",
    "        if j % 2 != 0:\n",
    "            soma1 = soma1 + valor\n",
    "        elif j == 2:\n",
    "            soma2 = soma2 + valor\n",
    "        elif j == 4:\n",
    "            soma2 = soma2 + valor\n",
    "        linha.append(valor)\n",
    "    matriz.append(linha[:])\n",
    "media = soma2 / 6\n",
    "print(f'Soma dos elementos das colunas ímpares: {soma1}')\n",
    "print(f'Média dos elementos da segunda e quarta coluna: {media}')\n",
    "print(matriz)"
   ]
  },
  {
   "cell_type": "code",
   "execution_count": 5,
   "metadata": {},
   "outputs": [
    {
     "name": "stdout",
     "output_type": "stream",
     "text": [
      "Matriz 1 posição [1,1]:1\n",
      "Matriz 2 posição [1,1]:2\n",
      "Matriz 1 posição [1,2]:3\n",
      "Matriz 2 posição [1,2]:4\n",
      "Matriz 1 posição [2,1]:5\n",
      "Matriz 2 posição [2,1]:6\n",
      "Matriz 1 posição [2,2]:7\n",
      "Matriz 2 posição [2,2]:8\n",
      "-=-=-=-=-=-=-=-=-=-=\n",
      "Matriz 1\n",
      "[[1.0, 3.0], [5.0, 7.0]]\n",
      "-=-=-=-=-=-=-=-=-=-=\n",
      "Matriz 2\n",
      "[[2.0, 4.0], [6.0, 8.0]]\n",
      "-=-=-=-=-=-=-=-=-=-=\n",
      "Matriz 1 + Matriz 2\n",
      "[[3.0, 7.0], [11.0, 15.0]]\n",
      "-=-=-=-=-=-=-=-=-=-=\n",
      "Matriz 1 - Matriz 2\n",
      "[[-1.0, -1.0], [-1.0, -1.0]]\n"
     ]
    }
   ],
   "source": [
    "#21.\n",
    "\n",
    "matriz1 = []\n",
    "matriz2 = []\n",
    "matrizsoma = []\n",
    "matrizsub = []\n",
    "for i in range(1, 3):\n",
    "    linha1 = []\n",
    "    linha2 = []\n",
    "    linhasoma = []\n",
    "    linhasub = []\n",
    "    for j in range(1, 3):\n",
    "        valor1 = float(input(f'Matriz 1 posição [{i},{j}]:'))\n",
    "        valor2 = float(input(f'Matriz 2 posição [{i},{j}]:'))\n",
    "        linha1.append(valor1)\n",
    "        linha2.append(valor2)\n",
    "        soma = valor1 + valor2\n",
    "        linhasoma.append(soma)\n",
    "        sub = valor1 - valor2\n",
    "        linhasub.append(sub)\n",
    "    matriz1.append(linha1[:])\n",
    "    matriz2.append(linha2[:])\n",
    "    matrizsoma.append(linhasoma)\n",
    "    matrizsub.append(linhasub)\n",
    "print('-=-=-=-=-=-=-=-=-=-=')\n",
    "print('Matriz 1')\n",
    "print(matriz1)\n",
    "print('-=-=-=-=-=-=-=-=-=-=')\n",
    "print('Matriz 2')\n",
    "print(matriz2)\n",
    "print('-=-=-=-=-=-=-=-=-=-=')\n",
    "print('Matriz 1 + Matriz 2')\n",
    "print(matrizsoma)\n",
    "print('-=-=-=-=-=-=-=-=-=-=')\n",
    "print('Matriz 1 - Matriz 2')\n",
    "print(matrizsub)"
   ]
  }
 ],
 "metadata": {
  "kernelspec": {
   "display_name": "Python 3",
   "language": "python",
   "name": "python3"
  },
  "language_info": {
   "codemirror_mode": {
    "name": "ipython",
    "version": 3
   },
   "file_extension": ".py",
   "mimetype": "text/x-python",
   "name": "python",
   "nbconvert_exporter": "python",
   "pygments_lexer": "ipython3",
   "version": "3.7.6"
  }
 },
 "nbformat": 4,
 "nbformat_minor": 2
}
