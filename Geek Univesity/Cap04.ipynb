{
 "cells": [
  {
   "cell_type": "markdown",
   "metadata": {},
   "source": [
    "# CAPÍTULO 04 - Variáveis e Tipos de Dados"
   ]
  },
  {
   "cell_type": "code",
   "execution_count": 1,
   "metadata": {},
   "outputs": [
    {
     "name": "stdout",
     "output_type": "stream",
     "text": [
      "10\n",
      "<class 'int'>\n"
     ]
    }
   ],
   "source": [
    "#1. Faça um programa que leia um número inteiro e o imprima.\n",
    "a = 10\n",
    "b = type(a)\n",
    "print(a)\n",
    "print(b)"
   ]
  },
  {
   "cell_type": "code",
   "execution_count": 4,
   "metadata": {},
   "outputs": [
    {
     "name": "stdout",
     "output_type": "stream",
     "text": [
      "Informe o primeiro valor inteiro:10\n",
      "Informe o segundo valor inteiro:2\n",
      "Informe o terceiro valor inteiro:7\n",
      "19\n"
     ]
    }
   ],
   "source": [
    "#3. Peça ao usuário para digitar três valores inteiros e imprima a soma deles.\n",
    "a = input('Informe o primeiro valor inteiro:')\n",
    "b = input('Informe o segundo valor inteiro:')\n",
    "c = input('Informe o terceiro valor inteiro:')\n",
    "d = int(a)\n",
    "e = int(b)\n",
    "f = int(c)\n",
    "g = d + e + f\n",
    "print(g)"
   ]
  },
  {
   "cell_type": "code",
   "execution_count": 6,
   "metadata": {},
   "outputs": [
    {
     "name": "stdout",
     "output_type": "stream",
     "text": [
      "2.066666\n"
     ]
    }
   ],
   "source": [
    "#5. Leia um número real e imprima a quinta parte deste número.\n",
    "real = 10.33333\n",
    "quintaparte = real/5\n",
    "print(quintaparte)"
   ]
  },
  {
   "cell_type": "code",
   "execution_count": 17,
   "metadata": {},
   "outputs": [
    {
     "name": "stdout",
     "output_type": "stream",
     "text": [
      "A temperatura em graus celsius é: 25\n"
     ]
    }
   ],
   "source": [
    "#7. Leia uma temperatura em graus Fahrenheit e apresente-a convertida em graus Celsius.\n",
    "fahr = 78\n",
    "celsius = (5.0*(fahr-32.0)/9.0)\n",
    "a = int(celsius)\n",
    "print('A temperatura em graus celsius é:',a)\n",
    "\n",
    "\n"
   ]
  },
  {
   "cell_type": "code",
   "execution_count": 19,
   "metadata": {},
   "outputs": [
    {
     "name": "stdout",
     "output_type": "stream",
     "text": [
      "A temperatura em kelvin é: 308.45\n"
     ]
    }
   ],
   "source": [
    "#9. Leia uma temperatura em graus Celsius e apresente-a convertida em graus Kelvin.\n",
    "c = 35.3\n",
    "k = c + 273.15\n",
    "print('A temperatura em kelvin é:',k)"
   ]
  },
  {
   "cell_type": "code",
   "execution_count": 20,
   "metadata": {},
   "outputs": [
    {
     "name": "stdout",
     "output_type": "stream",
     "text": [
      "A velocidade em km/h é: 117.0\n"
     ]
    }
   ],
   "source": [
    "#11. Leia uma velocidade em m/s e apresente-a convertida em km/h.\n",
    "m = 32.5\n",
    "k = m * 3.6\n",
    "print('A velocidade em km/h é:',k)\n",
    "\n"
   ]
  },
  {
   "cell_type": "code",
   "execution_count": 23,
   "metadata": {},
   "outputs": [
    {
     "name": "stdout",
     "output_type": "stream",
     "text": [
      "A distância em milhas é: 18\n"
     ]
    }
   ],
   "source": [
    "#13.Leia uma distância em quilomêtros e apresente-a convertida em milhas.\n",
    "k = 30.5\n",
    "m = k/1.61\n",
    "a = int(m)\n",
    "print('A distância em milhas é:',a)"
   ]
  },
  {
   "cell_type": "code",
   "execution_count": 5,
   "metadata": {},
   "outputs": [],
   "source": [
    "#15. Leia um ângulo em radianos e apresente-o convertido em graus.\n",
    "\n",
    "import math #Importa o pacote math\n"
   ]
  },
  {
   "cell_type": "code",
   "execution_count": 6,
   "metadata": {},
   "outputs": [
    {
     "name": "stdout",
     "output_type": "stream",
     "text": [
      "O comprimento em polegadas é: 39.56692913385827\n"
     ]
    }
   ],
   "source": [
    "#17. Leia um valor de comprimento em centímetros e apresente-o convertido em polegadas.\n",
    "\n",
    "cent= 100.5\n",
    "p = (cent/2.54)\n",
    "print('O comprimento em polegadas é:',p)\n",
    "\n",
    "\n"
   ]
  },
  {
   "cell_type": "code",
   "execution_count": 7,
   "metadata": {},
   "outputs": [
    {
     "name": "stdout",
     "output_type": "stream",
     "text": [
      "O volume em m³ é: 0.01\n"
     ]
    }
   ],
   "source": [
    "#19. Leia um valor de volume em litros e apresente-o convertido em metro cúbicos(m³).\n",
    "\n",
    "L = 10\n",
    "M = (L/1000)\n",
    "print('O volume em m³ é:',M)"
   ]
  },
  {
   "cell_type": "code",
   "execution_count": 8,
   "metadata": {},
   "outputs": [
    {
     "name": "stdout",
     "output_type": "stream",
     "text": [
      "O valor da massa em kg é: 4.5\n"
     ]
    }
   ],
   "source": [
    "#21. Leia um valor de massa em libras e apresente-o convertido em quilogramas.\n",
    "\n",
    "l = 10\n",
    "k = (l*0.45)\n",
    "print('O valor da massa em kg é:',k)\n"
   ]
  },
  {
   "cell_type": "code",
   "execution_count": 10,
   "metadata": {},
   "outputs": [
    {
     "name": "stdout",
     "output_type": "stream",
     "text": [
      "O valor em jardas é: 62.637362637362635\n"
     ]
    }
   ],
   "source": [
    "#23. Leia um alor de comprimento em metros e apresente-o convertido em jardas.\n",
    "\n",
    "comp = 57\n",
    "j = (comp/0.91)\n",
    "print('O valor em jardas é:',j)"
   ]
  },
  {
   "cell_type": "code",
   "execution_count": 11,
   "metadata": {},
   "outputs": [
    {
     "name": "stdout",
     "output_type": "stream",
     "text": [
      "O valor da área em m² é: 311740.66\n"
     ]
    }
   ],
   "source": [
    "#25. Leia um valor de área em acres e apresente-o convertido em metros quadrados(m²).\n",
    "\n",
    "A = 77\n",
    "M = (A*4048.58)\n",
    "print('O valor da área em m² é:',M)"
   ]
  },
  {
   "cell_type": "code",
   "execution_count": 12,
   "metadata": {},
   "outputs": [
    {
     "name": "stdout",
     "output_type": "stream",
     "text": [
      "A área em m² é: 150000\n"
     ]
    }
   ],
   "source": [
    "#27. Leia um valor de área em hectares e apresente-o convertido em m².\n",
    "\n",
    "H = 15\n",
    "M = (H*10000)\n",
    "print('A área em m² é:',M)"
   ]
  },
  {
   "cell_type": "code",
   "execution_count": 14,
   "metadata": {},
   "outputs": [
    {
     "name": "stdout",
     "output_type": "stream",
     "text": [
      "A média final foi: 5.575\n"
     ]
    }
   ],
   "source": [
    "#29. Leia quatro notas, calcule a média aritmética e imprima o resultado.\n",
    "a = 7.3\n",
    "b = 4.2\n",
    "c = 1.5\n",
    "d = 9.3\n",
    "media = (a+b+c+d)/4\n",
    "print('A média final foi:',media)"
   ]
  },
  {
   "cell_type": "code",
   "execution_count": 15,
   "metadata": {},
   "outputs": [
    {
     "name": "stdout",
     "output_type": "stream",
     "text": [
      "16\n",
      "14\n"
     ]
    }
   ],
   "source": [
    "#31. Leia um número inteiro e imprima o seu antecessor e o seu sucessor.\n",
    "\n",
    "a = 15\n",
    "print(a+1) #Imprimindo o sucessor\n",
    "print(a-1) #Imprimindo o antecessor"
   ]
  },
  {
   "cell_type": "code",
   "execution_count": 17,
   "metadata": {},
   "outputs": [
    {
     "name": "stdout",
     "output_type": "stream",
     "text": [
      "A área do quadrado em m² é 225\n"
     ]
    }
   ],
   "source": [
    "#33. Leia o tamanho do lado de um quadrado e imprima como resultado a sua área.\n",
    "\n",
    "l = 15\n",
    "area = l**2\n",
    "print('A área do quadrado em m² é',area)"
   ]
  },
  {
   "cell_type": "code",
   "execution_count": 26,
   "metadata": {},
   "outputs": [
    {
     "name": "stdout",
     "output_type": "stream",
     "text": [
      "Informe o valor de a:3\n",
      "Informe o valor de b:7\n",
      "O valor da hipotenusa é: 7.615773105863909\n"
     ]
    }
   ],
   "source": [
    "#35. Sejam a e b os catetos de um triângulo. Faça um programa que receba os valores de a e b e calcule o valor da hipotenusa. Imprima o resultado dessa operação.\n",
    "\n",
    "a = int(input('Informe o valor de a:')) #Solicitando um valor e convertor para int\n",
    "b = int(input('Informe o valor de b:')) #Solicitando um valor e convertor para int\n",
    "c = (a**2) + (b**2) #calculando hipotenusa\n",
    "hipotenusa = math.sqrt(c) #calculando hipotenusa, math.sqrt=raiz quadrada\n",
    "print('O valor da hipotenusa é:',hipotenusa)\n"
   ]
  },
  {
   "cell_type": "code",
   "execution_count": 31,
   "metadata": {},
   "outputs": [
    {
     "name": "stdout",
     "output_type": "stream",
     "text": [
      "Informe o vvalor do produto:10\n",
      "O valor do produto com desconto é: 8.8\n"
     ]
    }
   ],
   "source": [
    "#37. Faça um programa que leia o valor de um produto e imprima o valor com desconto, tendo em vista que o desconto foi de 12%.\n",
    "\n",
    "prod = float(input('Informe o vvalor do produto:')) #Informando o valor e convertendo para float\n",
    "desconto = prod*(0.12) # Desconto de 12%\n",
    "valorfinal = prod - desconto #Valor final com o desconto\n",
    "print('O valor do produto com desconto é:',valorfinal)"
   ]
  },
  {
   "cell_type": "code",
   "execution_count": 35,
   "metadata": {},
   "outputs": [
    {
     "name": "stdout",
     "output_type": "stream",
     "text": [
      "O primeiro ganhador recebeu R$ 358800.0\n",
      "O segundo ganhandor recebeu R$ 249600.0\n",
      "O terceiro ganhador recebeu R$ 171600.0\n"
     ]
    }
   ],
   "source": [
    "#39.\n",
    "\n",
    "valor = 780000\n",
    "a = (valor*46)/100 #Valor com 46% de desconto\n",
    "b = (valor*32)/100 #Valor com 32% de desconto\n",
    "c = valor - (a+b) #Valor restante\n",
    "print('O primeiro ganhador recebeu R$',a)\n",
    "print('O segundo ganhandor recebeu R$',b)\n",
    "print('O terceiro ganhador recebeu R$',c)"
   ]
  },
  {
   "cell_type": "code",
   "execution_count": 39,
   "metadata": {},
   "outputs": [
    {
     "name": "stdout",
     "output_type": "stream",
     "text": [
      "Hora de trabalho em reais:10.5\n",
      "Horas trabalhadas no mês:30\n",
      "Salário do funcionário: R$ 346.5\n"
     ]
    }
   ],
   "source": [
    "#41.\n",
    "\n",
    "a = float(input('Hora de trabalho em reais:')) #Convertendo valor fornecido para float\n",
    "b = float(input('Horas trabalhadas no mês:')) #Convertendo valor fornecido para float\n",
    "salario = a * b #Salario do mês\n",
    "salariob = ((salario*10)/100) + salario #Salário com reajuste de 10%\n",
    "print('Salário do funcionário: R$',salariob)\n"
   ]
  },
  {
   "cell_type": "code",
   "execution_count": 41,
   "metadata": {},
   "outputs": [
    {
     "name": "stdout",
     "output_type": "stream",
     "text": [
      "Valor:R$100\n",
      "Valor com desconto de 10%:R$ 90.0\n",
      "Valor da parcela em 3x:R$ 33.333333333333336\n",
      "Valor da comissão para venda a vista:R$ 4.5\n",
      "Valor da comissão para venda parcelada:R$ 5.0\n"
     ]
    }
   ],
   "source": [
    "#43.\n",
    "\n",
    "valor = float(input('Valor:R$')) #Informando o valor e convertendo para float\n",
    "total10 = valor - ((valor*10)/100) #Valor final com desconto de 10%\n",
    "parcela = valor/3 #Valor da parcela em 3 vezes\n",
    "comissao = (total10*5)/100 #Comissão de 5% do vendedor sobre o valor com 10% de desconto\n",
    "comissao2 = (valor*5)/100 #Comissao de 5% do vendedor sobre o valor total\n",
    "print('Valor com desconto de 10%:R$',total10)\n",
    "print('Valor da parcela em 3x:R$',parcela)\n",
    "print('Valor da comissão para venda a vista:R$',comissao)\n",
    "print('Valor da comissão para venda parcelada:R$',comissao2)\n"
   ]
  },
  {
   "cell_type": "code",
   "execution_count": 44,
   "metadata": {},
   "outputs": [
    {
     "name": "stdout",
     "output_type": "stream",
     "text": [
      "inter campeão mundial.\n"
     ]
    }
   ],
   "source": [
    "#45. \n",
    "\n",
    "texto = ('INTER CAMPEÃO MUNDIAL.')\n",
    "print(texto.lower()) #Transforma os caracteres em letras minúsculas"
   ]
  },
  {
   "cell_type": "code",
   "execution_count": 51,
   "metadata": {},
   "outputs": [
    {
     "name": "stdout",
     "output_type": "stream",
     "text": [
      "Informe um número:1000\n",
      "Unidade:0\n",
      "Dezena:0\n",
      "Centena:0\n",
      "Milhar:1\n"
     ]
    }
   ],
   "source": [
    "#47. \n",
    "\n",
    "num = int(input('Informe um número:'))\n",
    "n = str(num) #Trabsformando o num em string\n",
    "print('Unidade:{}'.format(n[3]))\n",
    "print('Dezena:{}'.format(n[2]))\n",
    "print('Centena:{}'.format(n[1]))\n",
    "print('Milhar:{}'.format(n[0]))"
   ]
  }
 ],
 "metadata": {
  "kernelspec": {
   "display_name": "Python 3",
   "language": "python",
   "name": "python3"
  },
  "language_info": {
   "codemirror_mode": {
    "name": "ipython",
    "version": 3
   },
   "file_extension": ".py",
   "mimetype": "text/x-python",
   "name": "python",
   "nbconvert_exporter": "python",
   "pygments_lexer": "ipython3",
   "version": "3.7.6"
  }
 },
 "nbformat": 4,
 "nbformat_minor": 4
}
